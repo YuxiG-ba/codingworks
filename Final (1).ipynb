{
 "cells": [
  {
   "cell_type": "code",
   "execution_count": 1,
   "metadata": {},
   "outputs": [],
   "source": [
    "## Libraries and keys\n",
    "import decimal\n",
    "import pandas as pd\n",
    "import numpy as np\n",
    "import cvxopt\n",
    "from cvxopt import blas, solvers\n",
    "import matplotlib.pyplot as plt\n",
    "import statsmodels.api as sm\n",
    "import plotly.express as px #(need to pip install plotly==4.4.1)"
   ]
  },
  {
   "cell_type": "code",
   "execution_count": 1,
   "metadata": {},
   "outputs": [
    {
     "ename": "NameError",
     "evalue": "name 'pd' is not defined",
     "output_type": "error",
     "traceback": [
      "\u001b[1;31m---------------------------------------------------------------------------\u001b[0m",
      "\u001b[1;31mNameError\u001b[0m                                 Traceback (most recent call last)",
      "\u001b[1;32m<ipython-input-1-6b411ed4ee26>\u001b[0m in \u001b[0;36m<module>\u001b[1;34m\u001b[0m\n\u001b[1;32m----> 1\u001b[1;33m \u001b[0mETM\u001b[0m \u001b[1;33m=\u001b[0m \u001b[0mpd\u001b[0m\u001b[1;33m.\u001b[0m\u001b[0mread_excel\u001b[0m\u001b[1;33m(\u001b[0m\u001b[1;34m\"/Users/Yuxi/Desktop/RM2/E.T.M.1.xlsx\"\u001b[0m\u001b[1;33m,\u001b[0m \u001b[0mencoding\u001b[0m\u001b[1;33m=\u001b[0m\u001b[1;34m'utf8'\u001b[0m\u001b[1;33m)\u001b[0m\u001b[1;33m\u001b[0m\u001b[1;33m\u001b[0m\u001b[0m\n\u001b[0m\u001b[0;32m      2\u001b[0m \u001b[0mETM\u001b[0m\u001b[1;33m=\u001b[0m\u001b[0mpd\u001b[0m\u001b[1;33m.\u001b[0m\u001b[0mSeries\u001b[0m\u001b[1;33m(\u001b[0m\u001b[0mETM\u001b[0m\u001b[1;33m[\u001b[0m\u001b[1;34m'PRICE'\u001b[0m\u001b[1;33m]\u001b[0m\u001b[1;33m)\u001b[0m\u001b[1;33m\u001b[0m\u001b[1;33m\u001b[0m\u001b[0m\n\u001b[0;32m      3\u001b[0m \u001b[0mTZReal\u001b[0m \u001b[1;33m=\u001b[0m \u001b[0mpd\u001b[0m\u001b[1;33m.\u001b[0m\u001b[0mread_excel\u001b[0m\u001b[1;33m(\u001b[0m\u001b[1;34m\"/Users/Yuxi/Desktop/RM2/Tz Real.xlsx\"\u001b[0m\u001b[1;33m,\u001b[0m \u001b[0mencoding\u001b[0m\u001b[1;33m=\u001b[0m\u001b[1;34m'utf8'\u001b[0m\u001b[1;33m)\u001b[0m\u001b[1;33m\u001b[0m\u001b[1;33m\u001b[0m\u001b[0m\n\u001b[0;32m      4\u001b[0m \u001b[0mTZReal\u001b[0m\u001b[1;33m=\u001b[0m\u001b[0mpd\u001b[0m\u001b[1;33m.\u001b[0m\u001b[0mSeries\u001b[0m\u001b[1;33m(\u001b[0m\u001b[0mTZReal\u001b[0m\u001b[1;33m[\u001b[0m\u001b[1;34m'PRICE'\u001b[0m\u001b[1;33m]\u001b[0m\u001b[1;33m)\u001b[0m\u001b[1;33m\u001b[0m\u001b[1;33m\u001b[0m\u001b[0m\n\u001b[0;32m      5\u001b[0m \u001b[0mTMYL\u001b[0m \u001b[1;33m=\u001b[0m \u001b[0mpd\u001b[0m\u001b[1;33m.\u001b[0m\u001b[0mread_excel\u001b[0m\u001b[1;33m(\u001b[0m\u001b[1;34m\"/Users/Yuxi/Desktop/RM2/TMYL.xlsx\"\u001b[0m\u001b[1;33m,\u001b[0m \u001b[0mencoding\u001b[0m\u001b[1;33m=\u001b[0m\u001b[1;34m'utf8'\u001b[0m\u001b[1;33m)\u001b[0m\u001b[1;33m\u001b[0m\u001b[1;33m\u001b[0m\u001b[0m\n",
      "\u001b[1;31mNameError\u001b[0m: name 'pd' is not defined"
     ]
    }
   ],
   "source": [
    "ETM = pd.read_excel(\"/Users/Yuxi/Desktop/RM2/E.T.M.1.xlsx\", encoding='utf8')\n",
    "ETM=pd.Series(ETM['PRICE'])\n",
    "TZReal = pd.read_excel(\"/Users/Yuxi/Desktop/RM2/Tz Real.xlsx\", encoding='utf8')\n",
    "TZReal=pd.Series(TZReal['PRICE'])\n",
    "TMYL = pd.read_excel(\"/Users/Yuxi/Desktop/RM2/TMYL.xlsx\", encoding='utf8')\n",
    "TMYL=pd.Series(TMYL['PRICE'])"
   ]
  },
  {
   "cell_type": "code",
   "execution_count": 2,
   "metadata": {},
   "outputs": [
    {
     "ename": "NameError",
     "evalue": "name 'pd' is not defined",
     "output_type": "error",
     "traceback": [
      "\u001b[1;31m---------------------------------------------------------------------------\u001b[0m",
      "\u001b[1;31mNameError\u001b[0m                                 Traceback (most recent call last)",
      "\u001b[1;32m<ipython-input-2-d83c290d590e>\u001b[0m in \u001b[0;36m<module>\u001b[1;34m\u001b[0m\n\u001b[0;32m      2\u001b[0m \u001b[1;32mimport\u001b[0m \u001b[0mrandom\u001b[0m\u001b[1;33m\u001b[0m\u001b[1;33m\u001b[0m\u001b[0m\n\u001b[0;32m      3\u001b[0m \u001b[1;33m\u001b[0m\u001b[0m\n\u001b[1;32m----> 4\u001b[1;33m \u001b[0midx\u001b[0m \u001b[1;33m=\u001b[0m \u001b[0mpd\u001b[0m\u001b[1;33m.\u001b[0m\u001b[0mdate_range\u001b[0m\u001b[1;33m(\u001b[0m\u001b[1;34m'2019-01-01'\u001b[0m\u001b[1;33m,\u001b[0m \u001b[0mperiods\u001b[0m\u001b[1;33m=\u001b[0m\u001b[1;36m100\u001b[0m\u001b[1;33m,\u001b[0m \u001b[0mfreq\u001b[0m\u001b[1;33m=\u001b[0m\u001b[1;34m'd'\u001b[0m\u001b[1;33m)\u001b[0m\u001b[1;33m\u001b[0m\u001b[1;33m\u001b[0m\u001b[0m\n\u001b[0m\u001b[0;32m      5\u001b[0m \u001b[0midx\u001b[0m\u001b[1;33m\u001b[0m\u001b[1;33m\u001b[0m\u001b[0m\n\u001b[0;32m      6\u001b[0m \u001b[1;31m#66 68 62 59 57 62 64 58 52 45\u001b[0m\u001b[1;33m\u001b[0m\u001b[1;33m\u001b[0m\u001b[1;33m\u001b[0m\u001b[0m\n",
      "\u001b[1;31mNameError\u001b[0m: name 'pd' is not defined"
     ]
    }
   ],
   "source": [
    "import datetime\n",
    "import random\n",
    "\n",
    "idx = pd.date_range('2019-01-01', periods=100, freq='d')\n",
    "idx\n",
    "#66 68 62 59 57 62 64 58 52 45\n",
    "Didida1 = np.random.random_integers(62, 70, size=(1, 10))\n",
    "Didida2 = np.random.random_integers(66, 73, size=(1, 10))\n",
    "Didida3 = np.random.random_integers(58, 66, size=(1, 10))\n",
    "Didida4 = np.random.random_integers(55, 63, size=(1, 10))\n",
    "Didida5 = np.random.random_integers(52, 60, size=(1, 10))\n",
    "Didida6 = np.random.random_integers(54, 64, size=(1, 10))\n",
    "Didida7 = np.random.random_integers(58, 68, size=(1, 10))\n",
    "Didida8 = np.random.random_integers(54, 62, size=(1, 10))\n",
    "Didida9 = np.random.random_integers(48, 53, size=(1, 10))\n",
    "Didida10 = np.random.random_integers(40, 48, size=(1, 10))\n",
    "\n",
    "Didida = np.concatenate((Didida1, Didida2, Didida3, Didida4, Didida5, Didida6, Didida7, Didida8,\n",
    "                         Didida9, Didida10), axis=None)\n",
    "\n",
    "#35 38 36 33 35\n",
    "Liverpool1 = np.random.random_integers(30, 40, size=(1, 20))\n",
    "Liverpool2 = np.random.random_integers(35, 50, size=(1, 20))\n",
    "Liverpool3 = np.random.random_integers(30, 45, size=(1, 20))\n",
    "Liverpool4 = np.random.random_integers(25, 40, size=(1, 20))\n",
    "Liverpool5 = np.random.random_integers(30, 40, size=(1, 20))\n",
    "\n",
    "Liverpool = np.concatenate((Liverpool1, Liverpool2, Liverpool3, Liverpool4, Liverpool5), axis=None)"
   ]
  },
  {
   "cell_type": "code",
   "execution_count": 4,
   "metadata": {},
   "outputs": [
    {
     "data": {
      "text/html": [
       "<div>\n",
       "<style scoped>\n",
       "    .dataframe tbody tr th:only-of-type {\n",
       "        vertical-align: middle;\n",
       "    }\n",
       "\n",
       "    .dataframe tbody tr th {\n",
       "        vertical-align: top;\n",
       "    }\n",
       "\n",
       "    .dataframe thead th {\n",
       "        text-align: right;\n",
       "    }\n",
       "</style>\n",
       "<table border=\"1\" class=\"dataframe\">\n",
       "  <thead>\n",
       "    <tr style=\"text-align: right;\">\n",
       "      <th></th>\n",
       "      <th>TZReal</th>\n",
       "      <th>ETM</th>\n",
       "      <th>TMYL</th>\n",
       "      <th>Liverpool</th>\n",
       "      <th>Didida</th>\n",
       "    </tr>\n",
       "  </thead>\n",
       "  <tbody>\n",
       "    <tr>\n",
       "      <td>2019-01-01</td>\n",
       "      <td>50.0</td>\n",
       "      <td>200.0</td>\n",
       "      <td>120.00</td>\n",
       "      <td>33</td>\n",
       "      <td>67</td>\n",
       "    </tr>\n",
       "    <tr>\n",
       "      <td>2019-01-02</td>\n",
       "      <td>50.0</td>\n",
       "      <td>200.0</td>\n",
       "      <td>120.00</td>\n",
       "      <td>30</td>\n",
       "      <td>70</td>\n",
       "    </tr>\n",
       "    <tr>\n",
       "      <td>2019-01-03</td>\n",
       "      <td>50.0</td>\n",
       "      <td>200.0</td>\n",
       "      <td>120.00</td>\n",
       "      <td>31</td>\n",
       "      <td>65</td>\n",
       "    </tr>\n",
       "    <tr>\n",
       "      <td>2019-01-04</td>\n",
       "      <td>50.0</td>\n",
       "      <td>200.0</td>\n",
       "      <td>120.00</td>\n",
       "      <td>32</td>\n",
       "      <td>69</td>\n",
       "    </tr>\n",
       "    <tr>\n",
       "      <td>2019-01-05</td>\n",
       "      <td>50.0</td>\n",
       "      <td>212.0</td>\n",
       "      <td>122.00</td>\n",
       "      <td>31</td>\n",
       "      <td>70</td>\n",
       "    </tr>\n",
       "    <tr>\n",
       "      <td>...</td>\n",
       "      <td>...</td>\n",
       "      <td>...</td>\n",
       "      <td>...</td>\n",
       "      <td>...</td>\n",
       "      <td>...</td>\n",
       "    </tr>\n",
       "    <tr>\n",
       "      <td>2019-04-06</td>\n",
       "      <td>92.0</td>\n",
       "      <td>300.0</td>\n",
       "      <td>112.67</td>\n",
       "      <td>37</td>\n",
       "      <td>48</td>\n",
       "    </tr>\n",
       "    <tr>\n",
       "      <td>2019-04-07</td>\n",
       "      <td>95.6</td>\n",
       "      <td>300.0</td>\n",
       "      <td>108.00</td>\n",
       "      <td>32</td>\n",
       "      <td>48</td>\n",
       "    </tr>\n",
       "    <tr>\n",
       "      <td>2019-04-08</td>\n",
       "      <td>100.0</td>\n",
       "      <td>300.0</td>\n",
       "      <td>120.00</td>\n",
       "      <td>38</td>\n",
       "      <td>46</td>\n",
       "    </tr>\n",
       "    <tr>\n",
       "      <td>2019-04-09</td>\n",
       "      <td>98.0</td>\n",
       "      <td>301.5</td>\n",
       "      <td>140.71</td>\n",
       "      <td>39</td>\n",
       "      <td>48</td>\n",
       "    </tr>\n",
       "    <tr>\n",
       "      <td>2019-04-10</td>\n",
       "      <td>99.7</td>\n",
       "      <td>300.0</td>\n",
       "      <td>126.00</td>\n",
       "      <td>36</td>\n",
       "      <td>47</td>\n",
       "    </tr>\n",
       "  </tbody>\n",
       "</table>\n",
       "<p>100 rows × 5 columns</p>\n",
       "</div>"
      ],
      "text/plain": [
       "            TZReal    ETM    TMYL  Liverpool  Didida\n",
       "2019-01-01    50.0  200.0  120.00         33      67\n",
       "2019-01-02    50.0  200.0  120.00         30      70\n",
       "2019-01-03    50.0  200.0  120.00         31      65\n",
       "2019-01-04    50.0  200.0  120.00         32      69\n",
       "2019-01-05    50.0  212.0  122.00         31      70\n",
       "...            ...    ...     ...        ...     ...\n",
       "2019-04-06    92.0  300.0  112.67         37      48\n",
       "2019-04-07    95.6  300.0  108.00         32      48\n",
       "2019-04-08   100.0  300.0  120.00         38      46\n",
       "2019-04-09    98.0  301.5  140.71         39      48\n",
       "2019-04-10    99.7  300.0  126.00         36      47\n",
       "\n",
       "[100 rows x 5 columns]"
      ]
     },
     "execution_count": 4,
     "metadata": {},
     "output_type": "execute_result"
    }
   ],
   "source": [
    "idx = pd.Series(idx)\n",
    "Didida = pd.Series(Didida)\n",
    "Liverpool = pd.Series(Liverpool)\n",
    "\n",
    "clean_data=pd.concat([TZReal,ETM,TMYL,Liverpool,Didida],axis=1)\n",
    "clean_data.columns = ['TZReal', 'ETM','TMYL','Liverpool','Didida'] \n",
    "stocklist = ['TZReal', 'ETM','TMYL','Liverpool','Didida'] \n",
    "clean_data.index = idx\n",
    "clean_data"
   ]
  },
  {
   "cell_type": "code",
   "execution_count": 5,
   "metadata": {},
   "outputs": [
    {
     "data": {
      "text/html": [
       "<div>\n",
       "<style scoped>\n",
       "    .dataframe tbody tr th:only-of-type {\n",
       "        vertical-align: middle;\n",
       "    }\n",
       "\n",
       "    .dataframe tbody tr th {\n",
       "        vertical-align: top;\n",
       "    }\n",
       "\n",
       "    .dataframe thead th {\n",
       "        text-align: right;\n",
       "    }\n",
       "</style>\n",
       "<table border=\"1\" class=\"dataframe\">\n",
       "  <thead>\n",
       "    <tr style=\"text-align: right;\">\n",
       "      <th></th>\n",
       "      <th>TZReal</th>\n",
       "      <th>ETM</th>\n",
       "      <th>TMYL</th>\n",
       "      <th>Liverpool</th>\n",
       "      <th>Didida</th>\n",
       "    </tr>\n",
       "  </thead>\n",
       "  <tbody>\n",
       "    <tr>\n",
       "      <td>2019-01-02</td>\n",
       "      <td>0.000000</td>\n",
       "      <td>0.000000</td>\n",
       "      <td>0.000000</td>\n",
       "      <td>-0.090909</td>\n",
       "      <td>0.044776</td>\n",
       "    </tr>\n",
       "    <tr>\n",
       "      <td>2019-01-03</td>\n",
       "      <td>0.000000</td>\n",
       "      <td>0.000000</td>\n",
       "      <td>0.000000</td>\n",
       "      <td>0.033333</td>\n",
       "      <td>-0.071429</td>\n",
       "    </tr>\n",
       "    <tr>\n",
       "      <td>2019-01-04</td>\n",
       "      <td>0.000000</td>\n",
       "      <td>0.000000</td>\n",
       "      <td>0.000000</td>\n",
       "      <td>0.032258</td>\n",
       "      <td>0.061538</td>\n",
       "    </tr>\n",
       "    <tr>\n",
       "      <td>2019-01-05</td>\n",
       "      <td>0.000000</td>\n",
       "      <td>0.060000</td>\n",
       "      <td>0.016667</td>\n",
       "      <td>-0.031250</td>\n",
       "      <td>0.014493</td>\n",
       "    </tr>\n",
       "    <tr>\n",
       "      <td>2019-01-06</td>\n",
       "      <td>0.000000</td>\n",
       "      <td>0.028302</td>\n",
       "      <td>0.020492</td>\n",
       "      <td>0.290323</td>\n",
       "      <td>0.000000</td>\n",
       "    </tr>\n",
       "    <tr>\n",
       "      <td>...</td>\n",
       "      <td>...</td>\n",
       "      <td>...</td>\n",
       "      <td>...</td>\n",
       "      <td>...</td>\n",
       "      <td>...</td>\n",
       "    </tr>\n",
       "    <tr>\n",
       "      <td>2019-04-06</td>\n",
       "      <td>-0.323529</td>\n",
       "      <td>0.020408</td>\n",
       "      <td>-0.020261</td>\n",
       "      <td>0.193548</td>\n",
       "      <td>0.116279</td>\n",
       "    </tr>\n",
       "    <tr>\n",
       "      <td>2019-04-07</td>\n",
       "      <td>0.039130</td>\n",
       "      <td>0.000000</td>\n",
       "      <td>-0.041448</td>\n",
       "      <td>-0.135135</td>\n",
       "      <td>0.000000</td>\n",
       "    </tr>\n",
       "    <tr>\n",
       "      <td>2019-04-08</td>\n",
       "      <td>0.046025</td>\n",
       "      <td>0.000000</td>\n",
       "      <td>0.111111</td>\n",
       "      <td>0.187500</td>\n",
       "      <td>-0.041667</td>\n",
       "    </tr>\n",
       "    <tr>\n",
       "      <td>2019-04-09</td>\n",
       "      <td>-0.020000</td>\n",
       "      <td>0.005000</td>\n",
       "      <td>0.172583</td>\n",
       "      <td>0.026316</td>\n",
       "      <td>0.043478</td>\n",
       "    </tr>\n",
       "    <tr>\n",
       "      <td>2019-04-10</td>\n",
       "      <td>0.017347</td>\n",
       "      <td>-0.004975</td>\n",
       "      <td>-0.104541</td>\n",
       "      <td>-0.076923</td>\n",
       "      <td>-0.020833</td>\n",
       "    </tr>\n",
       "  </tbody>\n",
       "</table>\n",
       "<p>99 rows × 5 columns</p>\n",
       "</div>"
      ],
      "text/plain": [
       "              TZReal       ETM      TMYL  Liverpool    Didida\n",
       "2019-01-02  0.000000  0.000000  0.000000  -0.090909  0.044776\n",
       "2019-01-03  0.000000  0.000000  0.000000   0.033333 -0.071429\n",
       "2019-01-04  0.000000  0.000000  0.000000   0.032258  0.061538\n",
       "2019-01-05  0.000000  0.060000  0.016667  -0.031250  0.014493\n",
       "2019-01-06  0.000000  0.028302  0.020492   0.290323  0.000000\n",
       "...              ...       ...       ...        ...       ...\n",
       "2019-04-06 -0.323529  0.020408 -0.020261   0.193548  0.116279\n",
       "2019-04-07  0.039130  0.000000 -0.041448  -0.135135  0.000000\n",
       "2019-04-08  0.046025  0.000000  0.111111   0.187500 -0.041667\n",
       "2019-04-09 -0.020000  0.005000  0.172583   0.026316  0.043478\n",
       "2019-04-10  0.017347 -0.004975 -0.104541  -0.076923 -0.020833\n",
       "\n",
       "[99 rows x 5 columns]"
      ]
     },
     "execution_count": 5,
     "metadata": {},
     "output_type": "execute_result"
    }
   ],
   "source": [
    "## Transforming Data for optimization \n",
    "stocklist = ['TZReal', 'ETM','TMYL','Liverpool','Didida'] \n",
    "returnss = (clean_data.pct_change().dropna())\n",
    "number = len(stocklist)\n",
    "returns = returnss.values #as_matrix()\n",
    "returnss"
   ]
  },
  {
   "cell_type": "code",
   "execution_count": 6,
   "metadata": {},
   "outputs": [
    {
     "data": {
      "text/plain": [
       "Text(0.5, 1.0, 'Cumulative Return of 5 Private Asset')"
      ]
     },
     "execution_count": 6,
     "metadata": {},
     "output_type": "execute_result"
    },
    {
     "data": {
      "image/png": "[encoded data removed]",
      "text/plain": [
       "<Figure size 720x576 with 1 Axes>"
      ]
     },
     "metadata": {
      "needs_background": "light"
     },
     "output_type": "display_data"
    }
   ],
   "source": [
    "#了解各股票的收益率状况,并作图\n",
    "returnss = returnss.dropna()\n",
    "cumreturn = (1+ returnss).cumprod()\n",
    "#sh_return.plot()\n",
    "#plt.title('Daily Return of 5 Private Asset(2019)')\n",
    "#plt.legend(bbox_to_anchor = (0.5,-0.3),ncol = 5,fancybox = True,shadow = True)\n",
    "cumreturn.plot(figsize=(10, 8), grid=True)\n",
    "plt.title('Cumulative Return of 5 Private Asset')"
   ]
  },
  {
   "cell_type": "code",
   "execution_count": 7,
   "metadata": {},
   "outputs": [],
   "source": [
    "#Log Return\n",
    "log_returns = np.log(clean_data/ clean_data.shift(1))\n",
    "#log_returns.hist(bins=50, figsize=(12, 9))\n",
    "rets = log_returns\n",
    "year_ret = rets.mean() * 252\n",
    "year_volatility = rets.cov() * 252"
   ]
  },
  {
   "cell_type": "code",
   "execution_count": 8,
   "metadata": {},
   "outputs": [
    {
     "data": {
      "text/plain": [
       "array([0.1194868 , 0.21587471, 0.13364917, 0.01032363, 0.52066569])"
      ]
     },
     "execution_count": 8,
     "metadata": {},
     "output_type": "execute_result"
    }
   ],
   "source": [
    "number_of_assets = 5\n",
    "weights = np.random.random(number_of_assets)\n",
    "weights /= np.sum(weights)\n",
    "weights"
   ]
  },
  {
   "cell_type": "code",
   "execution_count": 9,
   "metadata": {},
   "outputs": [],
   "source": [
    "portfolio_returns = []\n",
    "portfolio_volatilities = []\n",
    "for p in range (300):\n",
    "    weights = np.random.random(number_of_assets)\n",
    "    weights /= np.sum(weights)\n",
    "    portfolio_returns.append(np.sum(rets.mean() * weights) * 252)\n",
    "    portfolio_volatilities.append(np.sqrt(np.dot(weights.T,np.dot(rets.cov() * 252, weights))))"
   ]
  },
  {
   "cell_type": "code",
   "execution_count": 10,
   "metadata": {},
   "outputs": [],
   "source": [
    "portfolio_returns = np.array(portfolio_returns)\n",
    "portfolio_volatilities = np.array(portfolio_volatilities)"
   ]
  },
  {
   "cell_type": "code",
   "execution_count": 11,
   "metadata": {},
   "outputs": [],
   "source": [
    "def statistics(weights):        \n",
    "    weights = np.array(weights)\n",
    "    pret = np.sum(rets.mean() * weights) * 252\n",
    "    pvol = np.sqrt(np.dot(weights.T, np.dot(rets.cov() * 252, weights)))\n",
    "    return np.array([pret, pvol, pret / pvol])"
   ]
  },
  {
   "cell_type": "code",
   "execution_count": 12,
   "metadata": {},
   "outputs": [],
   "source": [
    "bnds = tuple((0, 1) for x in range(number_of_assets))\n",
    "cons = ({'type': 'eq', 'fun': lambda x: np.sum(x) - 1})"
   ]
  },
  {
   "cell_type": "code",
   "execution_count": 13,
   "metadata": {},
   "outputs": [],
   "source": [
    "import scipy.optimize as sco\n",
    "def min_func_sharpe(weights):\n",
    "    return -statistics(weights)[2]\n",
    "opts = sco.minimize(min_func_sharpe, number_of_assets * [1. / number_of_assets,], method='SLSQP',  bounds=bnds, constraints=cons)\n",
    "def min_func_variance(weights):\n",
    "    return statistics(weights)[1] ** 2\n",
    "optv = sco.minimize(min_func_variance, number_of_assets * [1. / number_of_assets,], method='SLSQP', bounds=bnds, constraints=cons)\n",
    "def min_func_port(weights):\n",
    "    return statistics(weights)[1]  \n",
    "target_returns = np.linspace(0.2, 1.5, 30)\n",
    "\n",
    "target_volatilities = []\n",
    "for tret in target_returns:\n",
    "    cons = ({'type': 'eq', 'fun': lambda x:  statistics(x)[0] - tret},\n",
    "            {'type': 'eq', 'fun': lambda x:  np.sum(x) - 1})\n",
    "    res = sco.minimize(min_func_port, number_of_assets * [1. / number_of_assets,], method='SLSQP',\n",
    "                       bounds=bnds, constraints=cons)\n",
    "    target_volatilities.append(res['fun'])"
   ]
  },
  {
   "cell_type": "code",
   "execution_count": 14,
   "metadata": {},
   "outputs": [],
   "source": [
    "## List of stock tickers \n",
    "\n",
    "stocks1 = ['TZReal', 'ETM', 'TMYL','Liverpool', 'Didida'] # High \n",
    "stocks2 = [] # Low\n",
    "\n",
    "# weights for stocks1\n",
    "Minimal_gewicht1 = 0.0\n",
    "Maximal_gewicht1 = 1.0\n",
    "# weights for stocks2\n",
    "Minimal_gewicht2 = 0.0\n",
    "Maximal_gewicht2 = 1.0\n",
    "\n",
    "\n",
    "Scale = 100 \n",
    "rf = 0.01\n",
    "stocklist = stocks1 + stocks2"
   ]
  },
  {
   "cell_type": "code",
   "execution_count": 15,
   "metadata": {},
   "outputs": [
    {
     "name": "stdout",
     "output_type": "stream",
     "text": [
      "     pcost       dcost       gap    pres   dres\n",
      " 0: -7.3620e-03 -5.6257e+00  2e+01  2e+00  2e-16\n",
      " 1: -7.3194e-03 -2.4174e+00  3e+00  2e-02  4e-16\n",
      " 2: -7.3623e-03 -1.1826e-01  1e-01  7e-04  5e-16\n",
      " 3: -7.1140e-03 -1.6471e-02  1e-02  5e-05  3e-17\n",
      " 4: -7.2039e-03 -7.9565e-03  8e-04  4e-06  1e-16\n",
      " 5: -7.2889e-03 -7.3867e-03  1e-04  4e-07  2e-15\n",
      " 6: -7.3051e-03 -7.3114e-03  6e-06  1e-08  1e-13\n",
      " 7: -7.3081e-03 -7.3086e-03  5e-07  3e-10  1e-13\n",
      " 8: -7.3085e-03 -7.3085e-03  1e-08  4e-12  5e-12\n",
      "Optimal solution found.\n"
     ]
    }
   ],
   "source": [
    "## Optimization!\n",
    "\n",
    "def optimal_portfolio(stocks, target):\n",
    "    returnss = (clean_data[stocks].pct_change().dropna())\n",
    "    returns = returnss.values\n",
    "    returns = returns.T\n",
    "    targetlen = target / len(returnss)\n",
    "    n = len(returns)\n",
    "    N1 = len(stocks)\n",
    "    N2 = len(stocks2)\n",
    "    returns = np.asmatrix(returns)\n",
    "    pbar = cvxopt.matrix(np.mean(returns, axis=1))\n",
    "    \n",
    "    N=Scale\n",
    "    mus_min=max(min(pbar),0)\n",
    "    mus_max=max(pbar)\n",
    "    mus_step=(mus_max - mus_min) / (N-1)\n",
    "    mus = [mus_min + i*mus_step for i in range(N)]\n",
    "\n",
    "    S = cvxopt.matrix(np.cov(returns))\n",
    "    #pbar = opt.matrix(np.mean(returns, axis=1))\n",
    "    \n",
    "    #constraint matrices\n",
    "    dank = -np.array(np.eye(n))\n",
    "    dabbie = np.array(np.eye(n))\n",
    "    #ye = np.vstack((dank, dabbie))\n",
    "    \n",
    "    dd = np.concatenate((-np.transpose(pbar), dank),0)\n",
    "    mm = np.concatenate((np.transpose(pbar), dabbie),0)\n",
    "    ye = np.vstack((dd, mm))\n",
    "    G = cvxopt.matrix(ye, tc='d')\n",
    "    \n",
    "    #G = opt.matrix(np.concatenate((-np.transpose(pbar),ye),0))\n",
    "    #G = opt.matrix(ye, tc='d')\n",
    "    \n",
    "    d1 = -np.ones((N1,1))*Minimal_gewicht1 \n",
    "    e1 = np.ones((N1,1))*Maximal_gewicht1\n",
    "    d2 = -np.ones((N2,1))*Minimal_gewicht2\n",
    "    e2 =  np.ones((N2,1))*Maximal_gewicht2\n",
    "    min_constraint = np.vstack((d1, d2))\n",
    "    max_constraint = np.vstack((e1, e2))\n",
    "    dodo = np.vstack((min_constraint, max_constraint))\n",
    "    A = cvxopt.matrix(1.0, (1, n))\n",
    "    b = cvxopt.matrix(1.0)\n",
    "    \n",
    "    \"\"\"\n",
    "    ## Calculate portfolios for efficient frontier (need this to find sharpe optimal portfolio)\n",
    "    portfolios=[]\n",
    "    for r_min in mus:\n",
    "        eee = np.vstack((-np.ones((1,1))*r_min, min_constraint))\n",
    "        fff = np.vstack((np.ones((1,1))*r_min, max_constraint))\n",
    "        h = cvxopt.matrix(np.concatenate((eee, fff),0))\n",
    "        \n",
    "        #h = cvxopt.matrix(np.concatenate((-np.ones((1,1))*r_min, dodo),0))\n",
    "        \n",
    "        sol = solvers.qp(S, -pbar, G, h, A, b)['x']\n",
    "        portfolios.append(sol)\n",
    "    \"\"\"\n",
    "    \n",
    "    \n",
    "\n",
    "    ## Calculate target return portfolio\n",
    "    eee = np.vstack((-np.ones((1,1))*targetlen, min_constraint))\n",
    "    fff = np.vstack((np.ones((1,1))*targetlen, max_constraint))\n",
    "    h = cvxopt.matrix(np.concatenate((eee, fff),0))\n",
    "    portfolios = [solvers.qp(S, -pbar, G, h, A, b)['x']]\n",
    "    \n",
    "   \n",
    "    ## Calculate Risk and Return\n",
    "    returns = np.asarray([blas.dot(pbar, x) for x in portfolios])\n",
    "    risks = np.asarray([np.sqrt(blas.dot(x, S*x)) for x in portfolios])\n",
    "    \n",
    "    # Approximates the position of the maximum Sharpe portfolio (also called tangent portfolio)\n",
    "    # the bigger the 'scale' parameter the more accurate the calculation of the maximum sharpe portfolio!\n",
    "    slope = (returns-(rf/252))/risks\n",
    "    sharpe_opt = slope.argmax()\n",
    "\n",
    "    return  returns, risks, portfolios, G, h, mus, sharpe_opt\n",
    "\n",
    "exp_returns, exp_risk, weights, G, h, mus, sharpe = optimal_portfolio(stocklist,0.85)"
   ]
  },
  {
   "cell_type": "code",
   "execution_count": 16,
   "metadata": {},
   "outputs": [
    {
     "name": "stderr",
     "output_type": "stream",
     "text": [
      "/Users/Tim/opt/anaconda3/lib/python3.7/site-packages/ipykernel_launcher.py:5: MatplotlibDeprecationWarning:\n",
      "\n",
      "Non-1D inputs to pie() are currently squeeze()d, but this behavior is deprecated since 3.1 and will be removed in 3.3; pass a 1D array instead.\n",
      "\n",
      "/Users/Tim/opt/anaconda3/lib/python3.7/site-packages/ipykernel_launcher.py:12: UserWarning:\n",
      "\n",
      "Matplotlib is currently using module://ipykernel.pylab.backend_inline, which is a non-GUI backend, so cannot show the figure.\n",
      "\n"
     ]
    },
    {
     "data": {
      "image/png": "[encoded data removed]",
      "text/plain": [
       "<Figure size 576x576 with 1 Axes>"
      ]
     },
     "metadata": {},
     "output_type": "display_data"
    }
   ],
   "source": [
    "labels = stocklist\n",
    "weights1 = np.array(weights[0]).tolist()\n",
    "#explode = (0,0,0,0,0,0,0,0,0,0,0)\n",
    "\n",
    "plt.pie(weights1, labels=labels, autopct='%.2f%%', shadow=False)\n",
    "#Add a circle to give dougnut appearance \n",
    "circle = plt.Circle((0,0), 0.75, color='black', fc='white', linewidth=1.25)\n",
    "fig = plt.gcf()\n",
    "fig.gca().add_artist(circle)\n",
    "plt.axis('equal')\n",
    "fig.set_size_inches(8,8)\n",
    "fig.show()  "
   ]
  },
  {
   "cell_type": "code",
   "execution_count": 17,
   "metadata": {},
   "outputs": [
    {
     "name": "stdout",
     "output_type": "stream",
     "text": [
      "[0.85]\n"
     ]
    }
   ],
   "source": [
    "## This will print the expected annualized return, this should be the same or very close to the target \n",
    "\n",
    "print(exp_returns*len(returnss))"
   ]
  },
  {
   "cell_type": "code",
   "execution_count": 18,
   "metadata": {},
   "outputs": [],
   "source": [
    "import dash\n",
    "import dash_core_components as dcc\n",
    "import dash_html_components as html\n",
    "from dash.dependencies import Input, Output"
   ]
  },
  {
   "cell_type": "code",
   "execution_count": 19,
   "metadata": {},
   "outputs": [],
   "source": [
    "from IPython import display\n",
    "import os\n",
    "def show_app(app, port = 9999, \n",
    "             width = 700, \n",
    "             height = 350, \n",
    "             offline = False,\n",
    "            in_binder = None):\n",
    "    in_binder ='JUPYTERHUB_SERVICE_PREFIX' in os.environ if in_binder is None else in_binder\n",
    "    if in_binder:\n",
    "        base_prefix = '{}proxy/{}/'.format(os.environ['JUPYTERHUB_SERVICE_PREFIX'], port)\n",
    "        url = 'https://hub.mybinder.org{}'.format(base_prefix)\n",
    "        app.config.requests_pathname_prefix = base_prefix\n",
    "    else:\n",
    "        url = 'http://localhost:%d' % port\n",
    "        \n",
    "    iframe = '<a href=\"{url}\" target=\"_new\">Open in new window</a><hr><iframe src=\"{url}\" width={width} height={height}></iframe>'.format(url = url, \n",
    "                                                                                  width = width, \n",
    "                                                                                  height = height)\n",
    "    \n",
    "    display.display_html(iframe, raw = True)\n",
    "    if offline:\n",
    "        app.css.config.serve_locally = True\n",
    "        app.scripts.config.serve_locally = True\n",
    "    return app.run_server(debug=False, # needs to be false in Jupyter\n",
    "                          host = '0.0.0.0',\n",
    "                          port=port)"
   ]
  },
  {
   "cell_type": "code",
   "execution_count": 20,
   "metadata": {},
   "outputs": [],
   "source": [
    "%matplotlib inline\n",
    "import matplotlib.pyplot as plt\n",
    "import numpy as np\n",
    "from io import BytesIO\n",
    "import base64\n",
    "\n",
    "def get_x():\n",
    "    return clean_data.index\n",
    "\n",
    "def get_y(name):\n",
    "    return clean_data[name]\n",
    "\n",
    "def fig_to_uri(in_fig, close_all=True, **save_args):\n",
    "    # type: (plt.Figure) -> str\n",
    "    \"\"\"\n",
    "    Save a figure as a URI\n",
    "    :param in_fig:\n",
    "    :return:\n",
    "    \"\"\"\n",
    "    out_img = BytesIO()\n",
    "    in_fig.savefig(out_img, format='png', **save_args)\n",
    "    if close_all:\n",
    "        in_fig.clf()\n",
    "        plt.close('all')\n",
    "    out_img.seek(0)  # rewind file\n",
    "    encoded = base64.b64encode(out_img.read()).decode(\"ascii\").replace(\"\\n\", \"\")\n",
    "    return \"data:image/png;base64,{}\".format(encoded)\n",
    "app_iplot = dash.Dash()\n",
    "\n",
    "logopic = '/Users/Tim/Desktop/RM2/logo.png' # replace with your own image\n",
    "logo = base64.b64encode(open(logopic, 'rb').read()).decode(\"ascii\")\n",
    "\n",
    "app_iplot.layout = html.Div(style={'font-family':'sans-serif','width':'100%'},children=[html.Div([html.Div(className='container-fluid',children=[\n",
    "      html.Img(\n",
    "                    src='data:image/png;base64,{}'.format(logo),\n",
    "                    className='five columns',\n",
    "                    style={\n",
    "                        'height': '13%',\n",
    "                        'width': '13%',\n",
    "                        'float':'right'\n",
    "                    },\n",
    "                ),\n",
    "    html.H2(children='Private Asset Management Platform',style={'margin-left':'30%'}),      \n",
    "    \n",
    "    html.Div(\n",
    "            [  \n",
    "                html.H4(children='''\n",
    "                        Welcome to TMYL, the portfolio simulator developed for Equisafe. We aim to create the best Customer Experience\n",
    "                        with portfolio customization and risk diversification and possible higher returns. \n",
    "                        ''',\n",
    "                        className='nine columns',style={'width':'80%','margin-top':'1%'}\n",
    "                )\n",
    "            ], className=\"row\"\n",
    "        ),\n",
    "    \n",
    "    html.H3(children='Pricing forcast of the private asset: Please choose the asset you want to estimate as below'), \n",
    "    \n",
    "    dcc.Dropdown(id='pricingforcast',style={'width': '96%', 'display': 'inline-block'},\n",
    "    options=[\n",
    "        {'label': 'ETM', 'value': 'ETM'},\n",
    "        {'label': 'TZReal', 'value': 'TZReal'},\n",
    "        {'label': 'TMYL', 'value': 'TMYL'},\n",
    "        {'label': 'Liverpool', 'value': 'Liverpool'}, \n",
    "        {'label': 'Didida', 'value': 'Didida'}, \n",
    "    ],\n",
    "    value=['TMYL']\n",
    "     )],style={'width': '98%', 'display': 'inline-block'}),\n",
    "    html.Div([html.Img(id = 'cur_plot', src = '')], id='plot_div'),\n",
    "     \n",
    "    html.H3(children='Portfolio Selection: Please choose the asset you want to include in your portfolio'),                        \n",
    "    dcc.Checklist(id='companies',\n",
    "    options=[\n",
    "        {'label': 'ETM', 'value': 'ETM'},\n",
    "        {'label': 'TZReal', 'value': 'TZReal'},\n",
    "        {'label': 'TMYL', 'value': 'TMYL'},\n",
    "        {'label': 'Liverpool', 'value': 'Liverpool'}, \n",
    "        {'label': 'Didida', 'value': 'Didida'}, \n",
    "    ],\n",
    "    value=['ETM','TZReal','TMYL']\n",
    "    )],style={'width':'100%','display': 'inline-block'}),\n",
    "                        \n",
    "##Asset's price              \n",
    "    html.Div(style={'font-family':'sans-serif','width':'49%','display': 'inline-block'}, className = 'row', \n",
    "             children = [html.H3(children = 'Historical Asset Price'),                           \n",
    "    dcc.Graph(id = 'price',style={'height': 300,'width':'92%'})\n",
    "]),\n",
    "##Culmulative Return  \n",
    "    html.Div(style={'font-family':'sans-serif','width':'49%','float': 'right'}, className = 'row', \n",
    "             children = [html.H3(children = 'Cumulative Return'),\n",
    "    dcc.Graph(id = 'cumulative',style={'height': 300,'width':'92%'})                        \n",
    "]), \n",
    "                             \n",
    "##Frontier                                     \n",
    "    html.Div(style={'font-family':'sans-serif','width':'49%','display': 'inline-block'}, className = 'row', \n",
    "             children = [html.H3(children = 'Efficient Frontier'),\n",
    "    dcc.Graph(id = 'frontier',style={'height': 400,'width':'98%'})\n",
    "    ]),  \n",
    "\n",
    "                                      \n",
    "##Portfolio PieChart                                                                  \n",
    "    html.Div(style={'font-family':'sans-serif','width':'49%','float': 'right'}, className = 'row', \n",
    "             children = [html.H3(children = 'Expected return: Please enter your expected return of this portfolio'),dcc.Input(id = 'input01', type = 'number', value = 0.5),html.H3(children = 'Portfolio'),\n",
    "                         html.Img(id='portfolio1', src ='')])\n",
    "])\n",
    "\n",
    "@app_iplot.callback(\n",
    "    Output(component_id='cur_plot', component_property='src'),\n",
    "    [Input(component_id = 'pricingforcast', component_property='value')]\n",
    ")\n",
    "def update_graph(input_value):\n",
    "    dta=clean_data[input_value]\n",
    "    fig, ax = plt.subplots(figsize=(15, 7))\n",
    "    ax = dta.loc['2019-01-01':].plot(ax=ax)\n",
    "    arma_mod30 = sm.tsa.ARMA(dta, (10,0)).fit(disp=False)\n",
    "    fig = arma_mod30.plot_predict('2019-04-06', '2019-04-15', dynamic=True, ax=ax, plot_insample=False)\n",
    "    out_url = fig_to_uri(fig)\n",
    "    return out_url\n",
    "\n",
    "@app_iplot.callback(Output(component_id='price', component_property = 'figure'),\n",
    "              [Input(component_id='companies', component_property='value')])\n",
    "def add_lines(inputvalue):\n",
    "    my_list = inputvalue\n",
    "    traces = []\n",
    "    for i in my_list:\n",
    "        traces.append(dict(\n",
    "            x=get_x(),\n",
    "            y=get_y(i),\n",
    "            text=i,\n",
    "            opacity=0.7,\n",
    "            marker={\n",
    "                'size': 15,\n",
    "                'line': {'width': 0.5, 'color': 'white'}\n",
    "            },\n",
    "            name=i\n",
    "        ))\n",
    "    return {\n",
    "        'data': traces,\n",
    "        'layout': dict(\n",
    "            xaxis={'title': 'Time'},\n",
    "            yaxis={'title': 'Price'},\n",
    "            margin={'l': 40, 'b': 40, 't': 10, 'r': 10},\n",
    "            legend={'x': 0, 'y': 1},\n",
    "            hovermode='closest',\n",
    "            transition = {'duration': 50}\n",
    "        )\n",
    "    }\n",
    "\n",
    "@app_iplot.callback(\n",
    "    Output(component_id='cumulative', component_property='figure'),\n",
    "    [Input(component_id = 'companies', component_property='value')]\n",
    ")\n",
    "def update_cumulatuve(iptv):\n",
    "    dff = clean_data[iptv]\n",
    "    ## Transforming Data for optimization \n",
    "    returnss = (dff.pct_change().dropna())\n",
    "    #number = len(stocklist)\n",
    "    returns = returnss.values #as_matrix()\n",
    "    returnss = returnss.dropna()\n",
    "    cumreturn = (1+ returnss).cumprod()\n",
    "    traces = []\n",
    "    for i in iptv:\n",
    "        traces.append(dict(\n",
    "            x=cumreturn.index,\n",
    "            y=cumreturn[i],\n",
    "            text=i,\n",
    "            opacity=0.7,\n",
    "            marker={\n",
    "                'size': 15,\n",
    "                'line': {'width': 0.5, 'color': 'white'}\n",
    "            },\n",
    "            name=i\n",
    "        ))\n",
    "    return {\n",
    "        'data': traces,\n",
    "        'layout': dict(\n",
    "            xaxis={'title': 'Time'},\n",
    "            yaxis={'title': 'Cumulative Return'},\n",
    "            margin={'l': 40, 'b': 40, 't': 10, 'r': 10},\n",
    "            legend={'x': 0, 'y': 1},\n",
    "            hovermode='closest',\n",
    "            transition = {'duration': 50}\n",
    "        )\n",
    "    }\n",
    "#efficient frontier\n",
    "@app_iplot.callback(\n",
    "    Output(component_id='frontier', component_property='figure'),\n",
    "    [Input(component_id = 'companies', component_property='value')]\n",
    ")\n",
    "def update_frontier(iptv): \n",
    "    dff = clean_data[iptv]\n",
    "    # Transforming Data for optimization \n",
    "    my_returnss = (dff.pct_change().dropna())\n",
    "    my_returns = my_returnss.values #as_matrix()\n",
    "    my_returnss = my_returnss.dropna()\n",
    "    my_log_returns = np.log(dff/dff.shift(1))\n",
    "    my_rets = my_log_returns\n",
    "    #assets number as input length\n",
    "    nbr_as = len(iptv)\n",
    "    #random value for assets number\n",
    "    pfl_returns = []\n",
    "    pfl_volatilities = []\n",
    "    for p in range (500):\n",
    "        wts = np.random.random(nbr_as)\n",
    "        wts /= np.sum(wts)\n",
    "        pfl_returns.append(np.sum(my_rets.mean() * wts) * 252)\n",
    "        pfl_volatilities.append(np.sqrt(np.dot(wts.T,np.dot(my_rets.cov() * 252, wts))))\n",
    "    pfl_returns = np.array(pfl_returns)\n",
    "    pfl_volatilities = np.array(pfl_volatilities)\n",
    "    \n",
    "    def my_statistics(weights):        \n",
    "        weights = np.array(weights)\n",
    "        pret = np.sum(my_rets.mean() * weights) * 252\n",
    "        pvol = np.sqrt(np.dot(weights.T, np.dot(my_rets.cov() * 252, weights)))\n",
    "        return np.array([pret, pvol, pret / pvol])\n",
    "    \n",
    "    def my_min_func_sharpe(weights):\n",
    "        return -my_statistics(weights)[2]\n",
    "    \n",
    "    def my_min_func_variance(weights):\n",
    "        return my_statistics(weights)[1] ** 2\n",
    "    \n",
    "    def my_min_func_port(weights):\n",
    "        return my_statistics(weights)[1]  \n",
    "    \n",
    "    my_bnds = tuple((0, 1) for x in range(nbr_as))\n",
    "    my_cons = ({'type': 'eq', 'fun': lambda x: np.sum(x) - 1})\n",
    "    my_opts = sco.minimize(my_min_func_sharpe, nbr_as * [1. / nbr_as,], method='SLSQP',  bounds=my_bnds, constraints=my_cons)\n",
    "    my_optv = sco.minimize(my_min_func_variance, nbr_as * [1. / nbr_as,], method='SLSQP', bounds=my_bnds, constraints=my_cons)\n",
    "    my_target_returns = np.linspace(0.2, 1.5, 50)\n",
    "\n",
    "    my_target_volatilities = []\n",
    "    for tret in my_target_returns:\n",
    "        cons = ({'type': 'eq', 'fun': lambda x:  my_statistics(x)[0] - tret},\n",
    "                {'type': 'eq', 'fun': lambda x:  np.sum(x) - 1})\n",
    "        res = sco.minimize(my_min_func_port, nbr_as * [1. / nbr_as,], method='SLSQP',bounds=my_bnds, constraints=cons)\n",
    "        my_target_volatilities.append(res['fun'])\n",
    "            \n",
    "    traces = []\n",
    "    traces.append(dict(\n",
    "        x= [my_statistics(my_opts['x'])[1]],\n",
    "        y= [my_statistics(my_opts['x'])[0]],\n",
    "        name = 'high',\n",
    "        opacity=0.7,\n",
    "        mode = 'markers',\n",
    "        marker={\n",
    "            'size': 20,\n",
    "            'line': {'width': 0.5},\n",
    "            'symbol':'star',\n",
    "            'color':'red'}\n",
    "        ))\n",
    "    \n",
    "    traces.append(dict(\n",
    "        x= [my_statistics(my_optv['x'])[1]],\n",
    "        y= [my_statistics(my_optv['x'])[0]],\n",
    "        name = 'low',\n",
    "        opacity=0.7,\n",
    "        mode = 'markers',\n",
    "        marker={\n",
    "            'size': 20,\n",
    "            'line': {'width': 0.5},\n",
    "            'symbol':'star',\n",
    "            'color':'yellow'}\n",
    "        ))\n",
    "    traces.append(dict(\n",
    "        x=pfl_volatilities,\n",
    "        y=pfl_returns,\n",
    "        opacity=0.7,\n",
    "        mode = 'markers',\n",
    "        name = 'profile',\n",
    "        marker={\n",
    "            'size': 10,\n",
    "            'line': {'width': 0.5},\n",
    "            'symbol':'o',\n",
    "            'color' : (pfl_returns - 0.02) / pfl_volatilities}\n",
    "        ))\n",
    "\n",
    "    traces.append(dict(\n",
    "        x=my_target_volatilities,\n",
    "        y=my_target_returns,\n",
    "        name = 'Frontier line',\n",
    "        opacity=0.7,\n",
    "        marker={\n",
    "            'size': 15,\n",
    "            'line': {'width': 0.5},\n",
    "            'symbol':'x',\n",
    "            'color':'blue'}\n",
    "        ))\n",
    "   \n",
    "\n",
    "    return {\n",
    "        'data': traces,\n",
    "        'layout': dict(\n",
    "            xaxis={'title': 'Expected Volatility'},\n",
    "            yaxis={'title': 'Expected Return'},\n",
    "            margin={'l': 40, 'b': 40, 't': 10, 'r': 10},\n",
    "            #legend={'x': 0, 'y': my_statistics(my_opts['x'])[0]},\n",
    "            hovermode='closest',\n",
    "            transition = {'duration': 50},\n",
    "        )\n",
    "    }\n",
    "\n",
    "@app_iplot.callback(\n",
    "    Output(component_id='portfolio1', component_property='src'),\n",
    "    [Input(component_id = 'companies', component_property='value'), Input('input01', 'value')]\n",
    ")\n",
    "def update_portfolio(input_value,inputreturn):\n",
    "    exp_returns, exp_risk, weights, G, h, mus, sharpe = optimal_portfolio(input_value,inputreturn)\n",
    "    labels = input_value\n",
    "    weights1 = np.array(weights[0]).tolist()\n",
    "    fig1 = plt.figure()\n",
    "    plt.pie(weights1, labels=labels, autopct='%.2f%%', shadow=False)\n",
    "    #Add a circle to give dougnut appearance \n",
    "    circle = plt.Circle((0,0), 0.75, color='black', fc='white', linewidth=1.25)\n",
    "    \n",
    "    fig1.gca().add_artist(circle)\n",
    "    plt.axis('equal')\n",
    "    fig1.set_size_inches(6,6)\n",
    "    fig1.show() \n",
    "    out_url1 = fig_to_uri(fig1)\n",
    "    return out_url1\n",
    "\n",
    "\n"
   ]
  },
  {
   "cell_type": "code",
   "execution_count": 21,
   "metadata": {},
   "outputs": [
    {
     "data": {
      "text/html": [
       "<a href=\"http://localhost:9999\" target=\"_new\">Open in new window</a><hr><iframe src=\"http://localhost:9999\" width=700 height=350></iframe>"
      ]
     },
     "metadata": {},
     "output_type": "display_data"
    },
    {
     "name": "stdout",
     "output_type": "stream",
     "text": [
      " * Serving Flask app \"__main__\" (lazy loading)\n",
      " * Environment: production\n",
      "   WARNING: This is a development server. Do not use it in a production deployment.\n",
      "   Use a production WSGI server instead.\n",
      " * Debug mode: off\n"
     ]
    },
    {
     "name": "stderr",
     "output_type": "stream",
     "text": [
      " * Running on http://0.0.0.0:9999/ (Press CTRL+C to quit)\n",
      "127.0.0.1 - - [20/Mar/2020 15:10:16] \"GET / HTTP/1.1\" 200 -\n",
      "127.0.0.1 - - [20/Mar/2020 15:10:16] \"GET /_dash-dependencies HTTP/1.1\" 200 -\n",
      "127.0.0.1 - - [20/Mar/2020 15:10:16] \"GET /_dash-layout HTTP/1.1\" 200 -\n",
      "127.0.0.1 - - [20/Mar/2020 15:10:17] \"POST /_dash-update-component HTTP/1.1\" 200 -\n",
      "127.0.0.1 - - [20/Mar/2020 15:10:17] \"POST /_dash-update-component HTTP/1.1\" 200 -\n"
     ]
    },
    {
     "name": "stdout",
     "output_type": "stream",
     "text": [
      "     pcost       dcost       gap    pres   dres\n",
      " 0: -8.1079e-03 -3.3469e+00  1e+01  2e+00  6e-16\n",
      " 1: -8.1010e-03 -1.5299e+00  2e+00  3e-02  5e-16\n",
      " 2: -7.9631e-03 -5.7650e-01  6e-01  9e-03  3e-16\n",
      " 3: -2.6648e-03 -3.5728e-01  4e-01  5e-03  2e-15\n",
      " 4: -3.1853e-03 -1.7408e-01  2e-01  2e-03  2e-15\n",
      " 5: -4.5901e-03 -1.2264e-01  1e-01  4e-04  2e-14\n",
      " 6: -4.3985e-03 -1.0276e-02  6e-03  2e-05  4e-16\n",
      " 7: -4.4122e-03 -4.7847e-03  4e-04  1e-06  4e-16\n",
      " 8: -4.4204e-03 -4.4405e-03  2e-05  4e-08  2e-13\n",
      " 9: -4.4205e-03 -4.4207e-03  2e-07  4e-10  8e-14\n",
      "10: -4.4205e-03 -4.4205e-03  2e-09  4e-12  7e-14\n",
      "Optimal solution found.\n"
     ]
    },
    {
     "name": "stderr",
     "output_type": "stream",
     "text": [
      "/Users/Tim/opt/anaconda3/lib/python3.7/site-packages/statsmodels/tsa/base/tsa_model.py:165: ValueWarning:\n",
      "\n",
      "No frequency information was provided, so inferred frequency D will be used.\n",
      "\n",
      "/Users/Tim/opt/anaconda3/lib/python3.7/site-packages/ipykernel_launcher.py:311: MatplotlibDeprecationWarning:\n",
      "\n",
      "Non-1D inputs to pie() are currently squeeze()d, but this behavior is deprecated since 3.1 and will be removed in 3.3; pass a 1D array instead.\n",
      "\n",
      "/Users/Tim/opt/anaconda3/lib/python3.7/site-packages/ipykernel_launcher.py:318: UserWarning:\n",
      "\n",
      "Matplotlib is currently using module://ipykernel.pylab.backend_inline, which is a non-GUI backend, so cannot show the figure.\n",
      "\n",
      "127.0.0.1 - - [20/Mar/2020 15:10:18] \"POST /_dash-update-component HTTP/1.1\" 200 -\n",
      "127.0.0.1 - - [20/Mar/2020 15:10:33] \"POST /_dash-update-component HTTP/1.1\" 200 -\n",
      "127.0.0.1 - - [20/Mar/2020 15:10:35] \"POST /_dash-update-component HTTP/1.1\" 200 -\n",
      "/Users/Tim/opt/anaconda3/lib/python3.7/site-packages/statsmodels/tsa/base/tsa_model.py:165: ValueWarning:\n",
      "\n",
      "No frequency information was provided, so inferred frequency D will be used.\n",
      "\n",
      "127.0.0.1 - - [20/Mar/2020 15:11:23] \"POST /_dash-update-component HTTP/1.1\" 200 -\n",
      "127.0.0.1 - - [20/Mar/2020 15:11:29] \"POST /_dash-update-component HTTP/1.1\" 200 -\n",
      "127.0.0.1 - - [20/Mar/2020 15:11:29] \"POST /_dash-update-component HTTP/1.1\" 200 -\n"
     ]
    },
    {
     "name": "stdout",
     "output_type": "stream",
     "text": [
      "     pcost       dcost       gap    pres   dres\n",
      " 0: -8.9592e-03 -4.5187e+00  2e+01  2e+00  4e-16\n",
      " 1: -8.9411e-03 -2.0218e+00  2e+00  3e-02  6e-16\n",
      " 2: -8.8044e-03 -8.1913e-01  9e-01  1e-02  5e-16\n",
      " 3: -4.0984e-03 -5.9074e-01  8e-01  7e-03  1e-15\n",
      " 4: -3.4493e-03 -1.7284e-01  2e-01  2e-03  3e-16\n",
      " 5: -4.7004e-03 -1.1287e-01  1e-01  9e-04  1e-15\n",
      " 6: -4.3202e-03 -6.7567e-03  3e-03  1e-05  3e-15\n",
      " 7: -4.4877e-03 -5.4100e-03  1e-03  1e-06  3e-14\n",
      " 8: -4.4930e-03 -4.5275e-03  4e-05  5e-08  1e-13\n",
      " 9: -4.4935e-03 -4.4939e-03  5e-07  5e-10  1e-12\n",
      "10: -4.4935e-03 -4.4935e-03  5e-09  5e-12  3e-12\n",
      "Optimal solution found.\n"
     ]
    },
    {
     "name": "stderr",
     "output_type": "stream",
     "text": [
      "127.0.0.1 - - [20/Mar/2020 15:11:30] \"POST /_dash-update-component HTTP/1.1\" 200 -\n",
      "127.0.0.1 - - [20/Mar/2020 15:11:30] \"POST /_dash-update-component HTTP/1.1\" 200 -\n",
      "127.0.0.1 - - [20/Mar/2020 15:11:30] \"POST /_dash-update-component HTTP/1.1\" 200 -\n"
     ]
    },
    {
     "name": "stdout",
     "output_type": "stream",
     "text": [
      "     pcost       dcost       gap    pres   dres\n",
      " 0: -7.3609e-03 -5.6255e+00  2e+01  2e+00  5e-16\n",
      " 1: -7.3158e-03 -2.4345e+00  3e+00  2e-02  6e-16\n",
      " 2: -7.2199e-03 -7.0533e-01  7e-01  6e-03  4e-16\n",
      " 3: -2.4695e-03 -4.6864e-01  5e-01  3e-03  6e-16\n",
      " 4: -4.7040e-03 -3.5515e-01  5e-01  2e-03  1e-15\n",
      " 5: -4.1164e-03 -1.5055e-02  1e-02  7e-05  5e-16\n",
      " 6: -4.4540e-03 -6.9747e-03  3e-03  2e-06  1e-14\n",
      " 7: -4.5165e-03 -4.7451e-03  2e-04  2e-07  1e-13\n",
      " 8: -4.5275e-03 -4.5360e-03  9e-06  3e-09  2e-12\n",
      " 9: -4.5276e-03 -4.5277e-03  9e-08  3e-11  4e-12\n",
      "Optimal solution found.\n"
     ]
    },
    {
     "name": "stderr",
     "output_type": "stream",
     "text": [
      "127.0.0.1 - - [20/Mar/2020 15:11:31] \"POST /_dash-update-component HTTP/1.1\" 200 -\n",
      "127.0.0.1 - - [20/Mar/2020 15:12:01] \"POST /_dash-update-component HTTP/1.1\" 200 -\n",
      "127.0.0.1 - - [20/Mar/2020 15:12:07] \"POST /_dash-update-component HTTP/1.1\" 200 -\n",
      "127.0.0.1 - - [20/Mar/2020 15:16:48] \"POST /_dash-update-component HTTP/1.1\" 200 -\n"
     ]
    },
    {
     "name": "stdout",
     "output_type": "stream",
     "text": [
      "     pcost       dcost       gap    pres   dres\n",
      " 0: -7.3593e-03 -5.6251e+00  2e+01  2e+00  4e-16\n",
      " 1: -7.3107e-03 -2.4584e+00  3e+00  3e-02  5e-16\n",
      " 2: -7.0667e-03 -1.2201e+00  1e+00  1e-02  6e-16\n",
      " 3: -1.7974e-03 -8.9666e-01  1e+00  1e-02  1e-15\n",
      " 4:  5.3738e-04 -1.5464e-01  2e-01  2e-03  4e-16\n",
      " 5:  1.4440e-03 -4.3493e-02  5e-02  3e-04  1e-16\n",
      " 6:  9.4112e-04 -2.8439e-02  4e-02  2e-04  2e-16\n",
      " 7:  1.0961e-03 -1.8615e-04  2e-03  8e-06  4e-15\n",
      " 8:  8.5688e-04  6.8327e-04  2e-04  2e-07  1e-13\n",
      " 9:  7.9838e-04  7.8836e-04  1e-05  4e-09  2e-13\n",
      "10:  7.9138e-04  7.9121e-04  2e-07  4e-11  2e-12\n",
      "11:  7.9125e-04  7.9124e-04  2e-09  4e-13  6e-12\n",
      "Optimal solution found.\n"
     ]
    },
    {
     "name": "stderr",
     "output_type": "stream",
     "text": [
      "127.0.0.1 - - [20/Mar/2020 15:16:49] \"POST /_dash-update-component HTTP/1.1\" 200 -\n"
     ]
    },
    {
     "name": "stdout",
     "output_type": "stream",
     "text": [
      "     pcost       dcost       gap    pres   dres\n",
      " 0: -7.3618e-03 -5.6257e+00  2e+01  2e+00  5e-16\n",
      " 1: -7.3189e-03 -2.4198e+00  3e+00  2e-02  5e-16\n",
      " 2: -7.3364e-03 -2.1870e-01  2e-01  1e-03  3e-16\n",
      " 3: -6.6868e-03 -4.4728e-02  4e-02  2e-04  1e-16\n",
      " 4: -6.8075e-03 -8.2859e-03  2e-03  8e-06  5e-17\n",
      " 5: -6.9345e-03 -7.0358e-03  1e-04  1e-07  9e-16\n",
      " 6: -6.9515e-03 -6.9606e-03  9e-06  4e-09  2e-14\n",
      " 7: -6.9543e-03 -6.9561e-03  2e-06  7e-10  3e-13\n",
      " 8: -6.9550e-03 -6.9553e-03  3e-07  9e-11  8e-12\n",
      " 9: -6.9552e-03 -6.9552e-03  3e-08  6e-12  5e-11\n",
      "Optimal solution found.\n",
      "     pcost       dcost       gap    pres   dres\n",
      " 0: -7.3620e-03 -5.6257e+00  2e+01  2e+00  3e-16\n",
      " 1: -7.3194e-03 -2.4174e+00  3e+00  2e-02  6e-16\n",
      " 2: -7.3623e-03 -1.1826e-01  1e-01  7e-04  3e-16\n",
      " 3: -7.1140e-03 -1.6471e-02  1e-02  5e-05  5e-17\n",
      " 4: -7.2039e-03 -7.9565e-03  8e-04  4e-06  2e-16\n",
      " 5: -7.2889e-03 -7.3867e-03  1e-04  4e-07  4e-15\n",
      " 6: -7.3051e-03 -7.3114e-03  6e-06  1e-08  2e-14\n",
      " 7: -7.3081e-03 -7.3086e-03  5e-07  3e-10  2e-13\n",
      " 8: -7.3085e-03 -7.3085e-03  1e-08  4e-12  3e-12\n",
      "Optimal solution found.\n"
     ]
    },
    {
     "name": "stderr",
     "output_type": "stream",
     "text": [
      "127.0.0.1 - - [20/Mar/2020 15:16:49] \"POST /_dash-update-component HTTP/1.1\" 200 -\n",
      "127.0.0.1 - - [20/Mar/2020 15:16:50] \"POST /_dash-update-component HTTP/1.1\" 200 -\n"
     ]
    },
    {
     "name": "stdout",
     "output_type": "stream",
     "text": [
      "     pcost       dcost       gap    pres   dres\n",
      " 0: -7.3618e-03 -5.6257e+00  2e+01  2e+00  5e-16\n",
      " 1: -7.3189e-03 -2.4198e+00  3e+00  2e-02  5e-16\n",
      " 2: -7.3364e-03 -2.1870e-01  2e-01  1e-03  3e-16\n",
      " 3: -6.6868e-03 -4.4728e-02  4e-02  2e-04  1e-16\n",
      " 4: -6.8075e-03 -8.2859e-03  2e-03  8e-06  5e-17\n",
      " 5: -6.9345e-03 -7.0358e-03  1e-04  1e-07  9e-16\n",
      " 6: -6.9515e-03 -6.9606e-03  9e-06  4e-09  2e-14\n",
      " 7: -6.9543e-03 -6.9561e-03  2e-06  7e-10  3e-13\n",
      " 8: -6.9550e-03 -6.9553e-03  3e-07  9e-11  8e-12\n",
      " 9: -6.9552e-03 -6.9552e-03  3e-08  6e-12  5e-11\n",
      "Optimal solution found.\n"
     ]
    },
    {
     "name": "stderr",
     "output_type": "stream",
     "text": [
      "127.0.0.1 - - [20/Mar/2020 15:16:51] \"POST /_dash-update-component HTTP/1.1\" 200 -\n"
     ]
    },
    {
     "name": "stdout",
     "output_type": "stream",
     "text": [
      "     pcost       dcost       gap    pres   dres\n",
      " 0: -7.3619e-03 -5.6257e+00  2e+01  2e+00  6e-16\n",
      " 1: -7.3192e-03 -2.4184e+00  3e+00  2e-02  4e-16\n",
      " 2: -7.3515e-03 -1.5927e-01  2e-01  1e-03  5e-16\n",
      " 3: -6.9558e-03 -2.3763e-02  2e-02  1e-04  6e-17\n",
      " 4: -7.0421e-03 -8.0877e-03  1e-03  6e-06  2e-16\n",
      " 5: -7.1453e-03 -7.3001e-03  2e-04  6e-07  2e-15\n",
      " 6: -7.1650e-03 -7.1742e-03  9e-06  2e-08  6e-15\n",
      " 7: -7.1685e-03 -7.1694e-03  9e-07  5e-10  1e-13\n",
      " 8: -7.1691e-03 -7.1691e-03  6e-08  2e-11  4e-12\n",
      "Optimal solution found.\n"
     ]
    },
    {
     "name": "stderr",
     "output_type": "stream",
     "text": [
      "127.0.0.1 - - [20/Mar/2020 15:16:55] \"POST /_dash-update-component HTTP/1.1\" 200 -\n"
     ]
    },
    {
     "name": "stdout",
     "output_type": "stream",
     "text": [
      "     pcost       dcost       gap    pres   dres\n",
      " 0: -7.3618e-03 -5.6257e+00  2e+01  2e+00  5e-16\n",
      " 1: -7.3189e-03 -2.4198e+00  3e+00  2e-02  5e-16\n",
      " 2: -7.3364e-03 -2.1870e-01  2e-01  1e-03  3e-16\n",
      " 3: -6.6868e-03 -4.4728e-02  4e-02  2e-04  1e-16\n",
      " 4: -6.8075e-03 -8.2859e-03  2e-03  8e-06  5e-17\n",
      " 5: -6.9345e-03 -7.0358e-03  1e-04  1e-07  9e-16\n",
      " 6: -6.9515e-03 -6.9606e-03  9e-06  4e-09  2e-14\n",
      " 7: -6.9543e-03 -6.9561e-03  2e-06  7e-10  3e-13\n",
      " 8: -6.9550e-03 -6.9553e-03  3e-07  9e-11  8e-12\n",
      " 9: -6.9552e-03 -6.9552e-03  3e-08  6e-12  5e-11\n",
      "Optimal solution found.\n"
     ]
    },
    {
     "name": "stderr",
     "output_type": "stream",
     "text": [
      "/Users/Tim/opt/anaconda3/lib/python3.7/site-packages/statsmodels/tsa/base/tsa_model.py:165: ValueWarning:\n",
      "\n",
      "No frequency information was provided, so inferred frequency D will be used.\n",
      "\n",
      "127.0.0.1 - - [20/Mar/2020 15:26:42] \"POST /_dash-update-component HTTP/1.1\" 200 -\n",
      "127.0.0.1 - - [20/Mar/2020 16:01:04] \"POST /_dash-update-component HTTP/1.1\" 200 -\n"
     ]
    },
    {
     "name": "stdout",
     "output_type": "stream",
     "text": [
      "     pcost       dcost       gap    pres   dres\n",
      " 0: -7.3593e-03 -5.6251e+00  2e+01  2e+00  4e-16\n",
      " 1: -7.3107e-03 -2.4584e+00  3e+00  3e-02  5e-16\n",
      " 2: -7.0667e-03 -1.2201e+00  1e+00  1e-02  6e-16\n",
      " 3: -1.7974e-03 -8.9666e-01  1e+00  1e-02  1e-15\n",
      " 4:  5.3738e-04 -1.5464e-01  2e-01  2e-03  4e-16\n",
      " 5:  1.4440e-03 -4.3493e-02  5e-02  3e-04  1e-16\n",
      " 6:  9.4112e-04 -2.8439e-02  4e-02  2e-04  2e-16\n",
      " 7:  1.0961e-03 -1.8615e-04  2e-03  8e-06  4e-15\n",
      " 8:  8.5688e-04  6.8327e-04  2e-04  2e-07  1e-13\n",
      " 9:  7.9838e-04  7.8836e-04  1e-05  4e-09  2e-13\n",
      "10:  7.9138e-04  7.9121e-04  2e-07  4e-11  2e-12\n",
      "11:  7.9125e-04  7.9124e-04  2e-09  4e-13  6e-12\n",
      "Optimal solution found.\n",
      "     pcost       dcost       gap    pres   dres\n",
      " 0: -7.3609e-03 -5.6255e+00  2e+01  2e+00  5e-16\n",
      " 1: -7.3158e-03 -2.4345e+00  3e+00  2e-02  6e-16\n",
      " 2: -7.2199e-03 -7.0533e-01  7e-01  6e-03  4e-16\n",
      " 3: -2.4695e-03 -4.6864e-01  5e-01  3e-03  6e-16\n",
      " 4: -4.7040e-03 -3.5515e-01  5e-01  2e-03  1e-15\n",
      " 5: -4.1164e-03 -1.5055e-02  1e-02  7e-05  5e-16\n",
      " 6: -4.4540e-03 -6.9747e-03  3e-03  2e-06  1e-14\n",
      " 7: -4.5165e-03 -4.7451e-03  2e-04  2e-07  1e-13\n",
      " 8: -4.5275e-03 -4.5360e-03  9e-06  3e-09  2e-12\n",
      " 9: -4.5276e-03 -4.5277e-03  9e-08  3e-11  4e-12\n",
      "Optimal solution found.\n"
     ]
    },
    {
     "name": "stderr",
     "output_type": "stream",
     "text": [
      "127.0.0.1 - - [20/Mar/2020 16:01:04] \"POST /_dash-update-component HTTP/1.1\" 200 -\n",
      "/Users/Tim/opt/anaconda3/lib/python3.7/site-packages/statsmodels/tsa/base/tsa_model.py:165: ValueWarning:\n",
      "\n",
      "No frequency information was provided, so inferred frequency D will be used.\n",
      "\n",
      "127.0.0.1 - - [20/Mar/2020 16:14:44] \"POST /_dash-update-component HTTP/1.1\" 200 -\n",
      "/Users/Tim/opt/anaconda3/lib/python3.7/site-packages/statsmodels/tsa/base/tsa_model.py:165: ValueWarning:\n",
      "\n",
      "No frequency information was provided, so inferred frequency D will be used.\n",
      "\n",
      "127.0.0.1 - - [20/Mar/2020 16:15:00] \"POST /_dash-update-component HTTP/1.1\" 200 -\n",
      "127.0.0.1 - - [20/Mar/2020 16:15:52] \"POST /_dash-update-component HTTP/1.1\" 200 -\n",
      "127.0.0.1 - - [20/Mar/2020 16:15:52] \"POST /_dash-update-component HTTP/1.1\" 200 -\n"
     ]
    },
    {
     "name": "stdout",
     "output_type": "stream",
     "text": [
      "     pcost       dcost       gap    pres   dres\n",
      " 0: -3.5344e-03 -4.5131e+00  2e+01  2e+00  5e-16\n",
      " 1: -3.5269e-03 -1.9935e+00  2e+00  2e-02  4e-16\n",
      " 2: -3.5529e-03 -1.0486e-01  1e-01  8e-04  2e-16\n",
      " 3: -3.8440e-03 -9.2615e-03  5e-03  4e-05  2e-17\n",
      " 4: -4.1467e-03 -5.1270e-03  1e-03  6e-06  4e-16\n",
      " 5: -4.2421e-03 -4.3501e-03  1e-04  5e-07  7e-15\n",
      " 6: -4.2647e-03 -4.2727e-03  8e-06  8e-09  9e-15\n",
      " 7: -4.2682e-03 -4.2695e-03  1e-06  9e-10  2e-13\n",
      " 8: -4.2691e-03 -4.2692e-03  1e-07  5e-11  1e-12\n",
      " 9: -4.2691e-03 -4.2691e-03  1e-09  5e-13  2e-12\n",
      "Optimal solution found.\n"
     ]
    },
    {
     "name": "stderr",
     "output_type": "stream",
     "text": [
      "127.0.0.1 - - [20/Mar/2020 16:15:53] \"POST /_dash-update-component HTTP/1.1\" 200 -\n"
     ]
    },
    {
     "name": "stdout",
     "output_type": "stream",
     "text": [
      "     pcost       dcost       gap    pres   dres\n",
      " 0: -3.5341e-03 -4.5129e+00  2e+01  2e+00  4e-16\n",
      " 1: -3.5257e-03 -2.0095e+00  2e+00  2e-02  6e-16\n",
      " 2: -3.4913e-03 -6.7239e-01  7e-01  7e-03  2e-16\n",
      " 3: -2.9689e-04 -4.6620e-01  7e-01  6e-03  3e-16\n",
      " 4:  1.4548e-03 -7.0390e-02  9e-02  5e-04  2e-16\n",
      " 5:  6.2452e-04 -3.7456e-02  7e-02  4e-04  3e-16\n",
      " 6:  9.5824e-04  4.5417e-05  1e-03  4e-06  1e-15\n",
      " 7:  8.3947e-04  7.5010e-04  1e-04  2e-07  5e-14\n",
      " 8:  7.9633e-04  7.8988e-04  7e-06  3e-09  9e-13\n",
      " 9:  7.9134e-04  7.9123e-04  1e-07  3e-11  5e-12\n",
      "10:  7.9124e-04  7.9124e-04  1e-09  3e-13  6e-12\n",
      "Optimal solution found.\n"
     ]
    },
    {
     "name": "stderr",
     "output_type": "stream",
     "text": [
      "127.0.0.1 - - [20/Mar/2020 16:17:11] \"POST /_dash-update-component HTTP/1.1\" 200 -\n"
     ]
    },
    {
     "name": "stdout",
     "output_type": "stream",
     "text": [
      "Exception on /_dash-update-component [POST]\n",
      "Traceback (most recent call last):\n",
      "  File \"/Users/Tim/opt/anaconda3/lib/python3.7/site-packages/flask/app.py\", line 2446, in wsgi_app\n",
      "    response = self.full_dispatch_request()\n",
      "  File \"/Users/Tim/opt/anaconda3/lib/python3.7/site-packages/flask/app.py\", line 1951, in full_dispatch_request\n",
      "    rv = self.handle_user_exception(e)\n",
      "  File \"/Users/Tim/opt/anaconda3/lib/python3.7/site-packages/flask/app.py\", line 1820, in handle_user_exception\n",
      "    reraise(exc_type, exc_value, tb)\n",
      "  File \"/Users/Tim/opt/anaconda3/lib/python3.7/site-packages/flask/_compat.py\", line 39, in reraise\n",
      "    raise value\n",
      "  File \"/Users/Tim/opt/anaconda3/lib/python3.7/site-packages/flask/app.py\", line 1949, in full_dispatch_request\n",
      "    rv = self.dispatch_request()\n",
      "  File \"/Users/Tim/opt/anaconda3/lib/python3.7/site-packages/flask/app.py\", line 1935, in dispatch_request\n",
      "    return self.view_functions[rule.endpoint](**req.view_args)\n",
      "  File \"/Users/Tim/opt/anaconda3/lib/python3.7/site-packages/dash/dash.py\", line 1461, in dispatch\n",
      "    response.set_data(self.callback_map[output][\"callback\"](*args))\n",
      "  File \"/Users/Tim/opt/anaconda3/lib/python3.7/site-packages/dash/dash.py\", line 1341, in add_context\n",
      "    output_value = func(*args, **kwargs)  # %% callback invoked %%\n",
      "  File \"<ipython-input-20-db6184c55ad9>\", line 307, in update_portfolio\n",
      "    exp_returns, exp_risk, weights, G, h, mus, sharpe = optimal_portfolio(input_value,inputreturn)\n",
      "  File \"<ipython-input-15-03444bd16cea>\", line 7, in optimal_portfolio\n",
      "    targetlen = target / len(returnss)\n",
      "TypeError: unsupported operand type(s) for /: 'NoneType' and 'int'\n"
     ]
    },
    {
     "name": "stderr",
     "output_type": "stream",
     "text": [
      "127.0.0.1 - - [20/Mar/2020 16:17:11] \"POST /_dash-update-component HTTP/1.1\" 500 -\n"
     ]
    },
    {
     "name": "stdout",
     "output_type": "stream",
     "text": [
      "     pcost       dcost       gap    pres   dres\n",
      " 0: -3.5341e-03 -4.5129e+00  2e+01  2e+00  4e-16\n",
      " 1: -3.5257e-03 -2.0095e+00  2e+00  2e-02  6e-16\n",
      " 2: -3.4913e-03 -6.7239e-01  7e-01  7e-03  2e-16\n",
      " 3: -2.9689e-04 -4.6620e-01  7e-01  6e-03  3e-16\n",
      " 4:  1.4548e-03 -7.0390e-02  9e-02  5e-04  2e-16\n",
      " 5:  6.2452e-04 -3.7456e-02  7e-02  4e-04  3e-16\n",
      " 6:  9.5824e-04  4.5417e-05  1e-03  4e-06  1e-15\n",
      " 7:  8.3947e-04  7.5010e-04  1e-04  2e-07  5e-14\n",
      " 8:  7.9633e-04  7.8988e-04  7e-06  3e-09  9e-13\n",
      " 9:  7.9134e-04  7.9123e-04  1e-07  3e-11  5e-12\n",
      "10:  7.9124e-04  7.9124e-04  1e-09  3e-13  6e-12\n",
      "Optimal solution found.\n",
      "     pcost       dcost       gap    pres   dres\n",
      " 0: -3.5346e-03 -4.5131e+00  2e+01  2e+00  5e-16\n",
      " 1: -3.5277e-03 -2.0054e+00  2e+00  2e-02  4e-16\n",
      " 2: -3.5800e-03 -5.4499e-01  6e-01  6e-03  5e-16\n",
      " 3: -4.6589e-03 -3.9304e-01  5e-01  4e-03  5e-16\n",
      "     pcost       dcost       gap    pres   dres 4: -4.4313e-03 -1.8755e-01  2e-01  2e-03  2e-16\n",
      "\n",
      " 0: -3.5347e-03 -4.5131e+00  2e+01  2e+00  3e-16\n",
      " 5: -4.8216e-03 -9.2429e-02  1e-01  5e-04  4e-15 1: -3.5278e-03 -2.0065e+00  2e+00  2e-02  6e-16\n",
      "\n",
      " 2: -3.5822e-03 -5.8032e-01  6e-01  6e-03  3e-16\n"
     ]
    },
    {
     "name": "stderr",
     "output_type": "stream",
     "text": [
      "127.0.0.1 - - [20/Mar/2020 16:17:12] \"POST /_dash-update-component HTTP/1.1\" 200 -\n"
     ]
    },
    {
     "name": "stdout",
     "output_type": "stream",
     "text": [
      " 6: -4.8725e-03 -8.9239e-03  5e-03  2e-05  1e-15\n",
      " 3: -4.6486e-03 -4.1281e-01  6e-01  5e-03  3e-16\n",
      " 4: -4.2587e-03 -1.8466e-01  2e-01  2e-03  2e-16\n",
      " 5: -4.8130e-03 -1.0860e-01  1e-01  7e-04  6e-16 7: -5.5715e-03 -6.1141e-03  6e-04  8e-07  6e-14\n",
      "\n",
      " 6: -4.8064e-03 -9.0283e-03  5e-03  2e-05  2e-15 8: -5.7248e-03 -5.7595e-03  4e-05  1e-08  2e-13\n",
      "\n",
      " 9: -5.7444e-03 -5.7451e-03  8e-07  2e-10  2e-12\n",
      "10: -5.7449e-03 -5.7449e-03  8e-09  2e-12  7e-12\n",
      "Optimal solution found.\n",
      " 7: -5.5667e-03 -6.1077e-03  6e-04  8e-07  4e-14\n",
      " 8: -5.7319e-03 -5.7556e-03  2e-05  1e-08  7e-14\n",
      " 9: -5.7447e-03 -5.7450e-03  3e-07  1e-10  8e-13\n",
      "10: -5.7449e-03 -5.7449e-03  3e-09  1e-12  2e-12\n",
      "Optimal solution found.\n"
     ]
    },
    {
     "name": "stderr",
     "output_type": "stream",
     "text": [
      "127.0.0.1 - - [20/Mar/2020 16:17:13] \"POST /_dash-update-component HTTP/1.1\" 200 -\n",
      "127.0.0.1 - - [20/Mar/2020 16:17:13] \"POST /_dash-update-component HTTP/1.1\" 200 -\n",
      "127.0.0.1 - - [20/Mar/2020 16:17:30] \"POST /_dash-update-component HTTP/1.1\" 200 -\n",
      "127.0.0.1 - - [20/Mar/2020 16:17:30] \"POST /_dash-update-component HTTP/1.1\" 200 -\n"
     ]
    },
    {
     "name": "stdout",
     "output_type": "stream",
     "text": [
      "     pcost       dcost       gap    pres   dres\n",
      " 0: -7.3619e-03 -5.6257e+00  2e+01  2e+00  4e-16\n",
      " 1: -7.3192e-03 -2.4184e+00  3e+00  2e-02  5e-16\n",
      " 2: -7.3515e-03 -1.5927e-01  2e-01  1e-03  4e-16\n",
      " 3: -6.9558e-03 -2.3763e-02  2e-02  1e-04  4e-17\n",
      " 4: -7.0421e-03 -8.0877e-03  1e-03  6e-06  2e-16\n",
      " 5: -7.1453e-03 -7.3001e-03  2e-04  6e-07  3e-15\n",
      " 6: -7.1650e-03 -7.1742e-03  9e-06  2e-08  8e-14\n",
      " 7: -7.1685e-03 -7.1694e-03  9e-07  5e-10  1e-13\n",
      " 8: -7.1691e-03 -7.1691e-03  6e-08  2e-11  2e-12\n",
      "Optimal solution found.\n"
     ]
    },
    {
     "name": "stderr",
     "output_type": "stream",
     "text": [
      "127.0.0.1 - - [20/Mar/2020 16:17:31] \"POST /_dash-update-component HTTP/1.1\" 200 -\n",
      "127.0.0.1 - - [20/Mar/2020 16:18:18] \"POST /_dash-update-component HTTP/1.1\" 200 -\n",
      "127.0.0.1 - - [20/Mar/2020 16:21:03] \"POST /_dash-update-component HTTP/1.1\" 200 -\n"
     ]
    },
    {
     "name": "stdout",
     "output_type": "stream",
     "text": [
      "     pcost       dcost       gap    pres   dres\n",
      " 0: -7.3588e-03 -5.6250e+00  2e+01  2e+00  4e-16\n",
      " 1: -7.3090e-03 -2.4664e+00  3e+00  3e-02  4e-16\n",
      " 2: -7.0199e-03 -1.3389e+00  1e+00  2e-02  4e-16\n",
      " 3: -1.5987e-03 -9.3494e-01  1e+00  1e-02  4e-15\n",
      " 4:  1.3775e-03 -1.1053e-01  3e-01  3e-03  1e-15\n",
      " 5:  3.5079e-03  7.2690e-03  6e-02  8e-04  1e-15\n",
      " 6:  3.6062e-03  1.4282e-01  4e-02  5e-04  5e-15\n",
      " 7:  3.6020e-03  1.9856e+00  7e-02  5e-04  4e-14\n",
      " 8:  3.6115e-03  8.1634e+01  5e-01  5e-04  2e-12\n",
      " 9:  3.6129e-03  4.1745e+03  2e+01  5e-04  2e-10\n",
      "10:  3.6148e-03  5.4905e+05  1e+03  5e-04  1e-07\n",
      "11:  3.6160e-03  2.1151e+08  1e+05  5e-04  5e-05\n",
      "12:  3.6165e-03  3.8210e+11  2e+07  5e-04  8e-02\n",
      "13:  3.6165e-03  9.1385e+15  6e+09  5e-04  6e+02\n",
      "14:  3.6165e-03  1.4883e+22  9e+13  5e-04  6e+08\n",
      "15:  3.6165e-03  2.1724e+30  1e+21  5e-04  5e+16\n",
      "16:  3.6165e-03  3.1863e+39  2e+28  5e-04  6e+25\n",
      "17:  3.6165e-03  2.2534e+50  8e+38  5e-04  7e+36\n",
      "18:  3.6165e-03  3.3243e+61  6e+49  5e-04  9e+47\n",
      "19:  3.6165e-03  4.8598e+70  8e+58  5e-04  2e+56\n",
      "20:  3.6165e-03  7.5413e+79  1e+68  5e-04  1e+66\n",
      "21:  3.6165e-03  1.0801e+88  2e+76  5e-04  2e+74\n",
      "22:  3.6165e-03  1.3022e+96  2e+84  6e-01  8e+81\n",
      "23:  3.6165e-03  7.5982e+107  2e+94  6e-01  8e+93\n",
      "24:  3.6165e-03  1.9336e+121  1e+107  6e-01 3e+107\n",
      "25:  3.6165e-03  2.5686e+135  3e+120  6e-01 2e+121\n",
      "26:  3.6165e-03  1.0397e+150  8e+134  6e-01 2e+136\n",
      "27:  3.6165e-03  7.9942e+164  2e+149  6e-01 3e+151\n",
      "28:  3.6165e-03  1.0632e+180  7e+163  6e-01    inf\n",
      "29:  3.6165e-03  1.0196e+195  7e+178  6e-01    inf\n",
      "30:  3.6165e-03  7.7345e+208  5e+192  6e-01    inf\n",
      "31:  3.6165e-03  2.3609e+216  2e+200  9e-01    inf\n",
      "32:  3.6165e-03  7.3797e+230  5e+214  9e-01    inf\n",
      "33:  3.6165e-03  7.3785e+245  5e+229  9e-01    inf\n",
      "34:  3.6165e-03  7.4127e+257  5e+241  9e-01    inf\n",
      "35:  3.6165e-03  1.1727e+273  1e+257  2e+10    inf\n",
      "36:  3.6165e-03  3.3365e+288  3e+272  2e+10    inf\n",
      "Terminated (singular KKT matrix).\n"
     ]
    },
    {
     "name": "stderr",
     "output_type": "stream",
     "text": [
      "127.0.0.1 - - [20/Mar/2020 18:17:32] \"POST /_dash-update-component HTTP/1.1\" 200 -\n",
      "127.0.0.1 - - [20/Mar/2020 18:17:33] \"POST /_dash-update-component HTTP/1.1\" 200 -\n"
     ]
    },
    {
     "name": "stdout",
     "output_type": "stream",
     "text": [
      "     pcost       dcost       gap    pres   dres\n",
      " 0: -7.3619e-03 -5.6257e+00  2e+01  2e+00  4e-16\n",
      " 1: -7.3192e-03 -2.4184e+00  3e+00  2e-02  5e-16\n",
      " 2: -7.3515e-03 -1.5927e-01  2e-01  1e-03  4e-16\n",
      " 3: -6.9558e-03 -2.3763e-02  2e-02  1e-04  4e-17\n",
      " 4: -7.0421e-03 -8.0877e-03  1e-03  6e-06  2e-16\n",
      " 5: -7.1453e-03 -7.3001e-03  2e-04  6e-07  3e-15\n",
      " 6: -7.1650e-03 -7.1742e-03  9e-06  2e-08  8e-14\n",
      " 7: -7.1685e-03 -7.1694e-03  9e-07  5e-10  1e-13\n",
      " 8: -7.1691e-03 -7.1691e-03  6e-08  2e-11  9e-13\n",
      "Optimal solution found.\n"
     ]
    },
    {
     "name": "stderr",
     "output_type": "stream",
     "text": [
      "127.0.0.1 - - [20/Mar/2020 18:17:34] \"POST /_dash-update-component HTTP/1.1\" 200 -\n"
     ]
    },
    {
     "name": "stdout",
     "output_type": "stream",
     "text": [
      "     pcost       dcost       gap    pres   dres\n",
      " 0: -7.3649e-03 -5.6260e+00  2e+01  2e+00  4e-16\n",
      " 1: -7.3299e-03 -2.4620e+00  3e+00  3e-02  8e-16\n",
      " 2: -7.6377e-03 -1.2620e+00  1e+00  1e-02  5e-16\n",
      " 3: -9.7610e-03 -8.7460e-01  1e+00  8e-03  4e-16\n",
      " 4: -9.7626e-03 -4.3922e-01  6e-01  3e-03  1e-15\n",
      " 5: -1.0405e-02 -1.6599e-01  2e-01  4e-04  3e-15\n",
      " 6: -1.0404e-02 -1.5167e-02  5e-03  1e-05  6e-16\n",
      " 7: -1.0736e-02 -1.1084e-02  4e-04  3e-07  2e-13\n",
      " 8: -1.0806e-02 -1.0850e-02  5e-05  3e-08  9e-13\n",
      " 9: -1.0830e-02 -1.0830e-02  8e-07  4e-10  1e-12\n",
      "10: -1.0830e-02 -1.0830e-02  8e-09  4e-12  3e-12\n",
      "Optimal solution found.\n"
     ]
    },
    {
     "name": "stderr",
     "output_type": "stream",
     "text": [
      "127.0.0.1 - - [20/Mar/2020 18:17:35] \"POST /_dash-update-component HTTP/1.1\" 200 -\n"
     ]
    },
    {
     "name": "stdout",
     "output_type": "stream",
     "text": [
      "     pcost       dcost       gap    pres   dres\n",
      " 0: -7.3619e-03 -5.6257e+00  2e+01  2e+00  4e-16\n",
      " 1: -7.3192e-03 -2.4184e+00  3e+00  2e-02  5e-16\n",
      " 2: -7.3515e-03 -1.5927e-01  2e-01  1e-03  4e-16\n",
      " 3: -6.9558e-03 -2.3763e-02  2e-02  1e-04  4e-17\n",
      " 4: -7.0421e-03 -8.0877e-03  1e-03  6e-06  2e-16\n",
      " 5: -7.1453e-03 -7.3001e-03  2e-04  6e-07  3e-15\n",
      " 6: -7.1650e-03 -7.1742e-03  9e-06  2e-08  8e-14\n",
      " 7: -7.1685e-03 -7.1694e-03  9e-07  5e-10  1e-13\n",
      " 8: -7.1691e-03 -7.1691e-03  6e-08  2e-11  2e-12\n",
      "Optimal solution found.\n"
     ]
    },
    {
     "name": "stderr",
     "output_type": "stream",
     "text": [
      "127.0.0.1 - - [20/Mar/2020 18:17:36] \"POST /_dash-update-component HTTP/1.1\" 200 -\n"
     ]
    },
    {
     "name": "stdout",
     "output_type": "stream",
     "text": [
      "     pcost       dcost       gap    pres   dres\n",
      " 0: -7.3618e-03 -5.6257e+00  2e+01  2e+00  3e-16\n",
      " 1: -7.3189e-03 -2.4198e+00  3e+00  2e-02  7e-16\n",
      " 2: -7.3364e-03 -2.1870e-01  2e-01  1e-03  4e-16\n",
      " 3: -6.6868e-03 -4.4728e-02  4e-02  2e-04  2e-16\n",
      " 4: -6.8075e-03 -8.2859e-03  2e-03  8e-06  3e-17\n",
      " 5: -6.9345e-03 -7.0358e-03  1e-04  1e-07  4e-15\n",
      " 6: -6.9515e-03 -6.9606e-03  9e-06  4e-09  4e-14\n",
      " 7: -6.9543e-03 -6.9561e-03  2e-06  7e-10  6e-13\n",
      " 8: -6.9550e-03 -6.9553e-03  3e-07  9e-11  1e-11\n",
      " 9: -6.9552e-03 -6.9552e-03  3e-08  6e-12  4e-11\n",
      "Optimal solution found.\n"
     ]
    },
    {
     "name": "stderr",
     "output_type": "stream",
     "text": [
      "127.0.0.1 - - [20/Mar/2020 18:17:36] \"POST /_dash-update-component HTTP/1.1\" 200 -\n"
     ]
    },
    {
     "name": "stdout",
     "output_type": "stream",
     "text": [
      "     pcost       dcost       gap    pres   dres\n",
      " 0: -7.3593e-03 -5.6251e+00  2e+01  2e+00  3e-16\n",
      " 1: -7.3107e-03 -2.4584e+00  3e+00  3e-02  6e-16\n",
      " 2: -7.0667e-03 -1.2201e+00  1e+00  1e-02  7e-16\n",
      " 3: -1.7974e-03 -8.9666e-01  1e+00  1e-02  2e-15\n",
      " 4:  5.3738e-04 -1.5464e-01  2e-01  2e-03  6e-16\n",
      " 5:  1.4440e-03 -4.3493e-02  5e-02  3e-04  2e-16\n",
      " 6:  9.4112e-04 -2.8439e-02  4e-02  2e-04  2e-16\n",
      " 7:  1.0961e-03 -1.8615e-04  2e-03  8e-06  2e-15\n",
      " 8:  8.5688e-04  6.8327e-04  2e-04  2e-07  8e-14\n",
      " 9:  7.9838e-04  7.8836e-04  1e-05  4e-09  3e-13\n",
      "10:  7.9138e-04  7.9121e-04  2e-07  4e-11  2e-12\n",
      "11:  7.9125e-04  7.9124e-04  2e-09  4e-13  2e-12\n",
      "Optimal solution found.\n"
     ]
    },
    {
     "name": "stderr",
     "output_type": "stream",
     "text": [
      "127.0.0.1 - - [20/Mar/2020 18:17:37] \"POST /_dash-update-component HTTP/1.1\" 200 -\n"
     ]
    },
    {
     "name": "stdout",
     "output_type": "stream",
     "text": [
      "     pcost       dcost       gap    pres   dres\n",
      " 0: -7.3609e-03 -5.6255e+00  2e+01  2e+00  4e-16\n",
      " 1: -7.3158e-03 -2.4345e+00  3e+00  2e-02  6e-16\n",
      " 2: -7.2199e-03 -7.0533e-01  7e-01  6e-03  1e-16\n",
      " 3: -2.4695e-03 -4.6864e-01  5e-01  3e-03  9e-16\n",
      " 4: -4.7040e-03 -3.5515e-01  5e-01  2e-03  7e-16\n",
      " 5: -4.1164e-03 -1.5055e-02  1e-02  7e-05  2e-16\n",
      " 6: -4.4540e-03 -6.9747e-03  3e-03  2e-06  8e-15\n",
      " 7: -4.5165e-03 -4.7451e-03  2e-04  2e-07  3e-13\n",
      " 8: -4.5275e-03 -4.5360e-03  9e-06  3e-09  3e-12\n",
      " 9: -4.5276e-03 -4.5277e-03  9e-08  3e-11  9e-12\n",
      "Optimal solution found.\n"
     ]
    },
    {
     "name": "stderr",
     "output_type": "stream",
     "text": [
      "/Users/Tim/opt/anaconda3/lib/python3.7/site-packages/statsmodels/tsa/base/tsa_model.py:165: ValueWarning:\n",
      "\n",
      "No frequency information was provided, so inferred frequency D will be used.\n",
      "\n",
      "127.0.0.1 - - [20/Mar/2020 18:21:20] \"POST /_dash-update-component HTTP/1.1\" 200 -\n",
      "/Users/Tim/opt/anaconda3/lib/python3.7/site-packages/statsmodels/tsa/base/tsa_model.py:165: ValueWarning:\n",
      "\n",
      "No frequency information was provided, so inferred frequency D will be used.\n",
      "\n",
      "127.0.0.1 - - [20/Mar/2020 18:34:02] \"POST /_dash-update-component HTTP/1.1\" 200 -\n",
      "/Users/Tim/opt/anaconda3/lib/python3.7/site-packages/statsmodels/tsa/base/tsa_model.py:165: ValueWarning:\n",
      "\n",
      "No frequency information was provided, so inferred frequency D will be used.\n",
      "\n",
      "127.0.0.1 - - [20/Mar/2020 18:34:15] \"POST /_dash-update-component HTTP/1.1\" 200 -\n",
      "127.0.0.1 - - [20/Mar/2020 18:36:02] \"POST /_dash-update-component HTTP/1.1\" 200 -\n"
     ]
    },
    {
     "name": "stdout",
     "output_type": "stream",
     "text": [
      "     pcost       dcost       gap    pres   dres\n",
      " 0: -7.3593e-03 -5.6251e+00  2e+01  2e+00  3e-16\n",
      " 1: -7.3107e-03 -2.4584e+00  3e+00  3e-02  6e-16\n",
      " 2: -7.0667e-03 -1.2201e+00  1e+00  1e-02  7e-16\n",
      " 3: -1.7974e-03 -8.9666e-01  1e+00  1e-02  2e-15\n",
      " 4:  5.3738e-04 -1.5464e-01  2e-01  2e-03  6e-16\n",
      " 5:  1.4440e-03 -4.3493e-02  5e-02  3e-04  2e-16\n",
      " 6:  9.4112e-04 -2.8439e-02  4e-02  2e-04  2e-16\n",
      " 7:  1.0961e-03 -1.8615e-04  2e-03  8e-06  2e-15\n",
      " 8:  8.5688e-04  6.8327e-04  2e-04  2e-07  8e-14\n",
      " 9:  7.9838e-04  7.8836e-04  1e-05  4e-09  3e-13\n",
      "10:  7.9138e-04  7.9121e-04  2e-07  4e-11  2e-12\n",
      "11:  7.9125e-04  7.9124e-04  2e-09  4e-13  2e-12\n",
      "Optimal solution found.\n",
      "     pcost       dcost       gap    pres   dres\n",
      " 0: -7.3618e-03 -5.6257e+00  2e+01  2e+00  3e-16\n",
      " 1: -7.3189e-03 -2.4198e+00  3e+00  2e-02  7e-16\n",
      " 2: -7.3364e-03 -2.1870e-01  2e-01  1e-03  4e-16\n",
      " 3: -6.6868e-03 -4.4728e-02  4e-02  2e-04  2e-16\n",
      " 4: -6.8075e-03 -8.2859e-03  2e-03  8e-06  3e-17\n",
      " 5: -6.9345e-03 -7.0358e-03  1e-04  1e-07  4e-15\n",
      " 6: -6.9515e-03 -6.9606e-03  9e-06  4e-09  4e-14\n",
      " 7: -6.9543e-03 -6.9561e-03  2e-06  7e-10  6e-13\n",
      " 8: -6.9550e-03 -6.9553e-03  3e-07  9e-11  4e-12\n",
      " 9: -6.9552e-03 -6.9552e-03  3e-08  6e-12  4e-12\n",
      "Optimal solution found.\n"
     ]
    },
    {
     "name": "stderr",
     "output_type": "stream",
     "text": [
      "127.0.0.1 - - [20/Mar/2020 18:36:03] \"POST /_dash-update-component HTTP/1.1\" 200 -\n"
     ]
    },
    {
     "name": "stdout",
     "output_type": "stream",
     "text": [
      "     pcost       dcost       gap    pres   dres\n",
      " 0: -7.3619e-03 -5.6257e+00  2e+01  2e+00  4e-16\n",
      " 1: -7.3192e-03 -2.4184e+00  3e+00  2e-02  5e-16\n",
      " 2: -7.3515e-03 -1.5927e-01  2e-01  1e-03  4e-16\n",
      " 3: -6.9558e-03 -2.3763e-02  2e-02  1e-04  4e-17\n",
      " 4: -7.0421e-03 -8.0877e-03  1e-03  6e-06  2e-16\n",
      " 5: -7.1453e-03 -7.3001e-03  2e-04  6e-07  3e-15\n",
      " 6: -7.1650e-03 -7.1742e-03  9e-06  2e-08  8e-14\n",
      " 7: -7.1685e-03 -7.1694e-03  9e-07  5e-10  1e-13\n",
      " 8: -7.1691e-03 -7.1691e-03  6e-08  2e-11  9e-13\n",
      "Optimal solution found.\n"
     ]
    },
    {
     "name": "stderr",
     "output_type": "stream",
     "text": [
      "127.0.0.1 - - [20/Mar/2020 18:36:07] \"POST /_dash-update-component HTTP/1.1\" 200 -\n",
      "127.0.0.1 - - [20/Mar/2020 18:39:58] \"POST /_dash-update-component HTTP/1.1\" 200 -\n",
      "127.0.0.1 - - [20/Mar/2020 18:39:58] \"POST /_dash-update-component HTTP/1.1\" 200 -\n"
     ]
    },
    {
     "name": "stdout",
     "output_type": "stream",
     "text": [
      "     pcost       dcost       gap    pres   dres\n",
      " 0: -6.3193e-03 -4.5193e+00  2e+01  2e+00  3e-16\n",
      " 1: -6.2938e-03 -1.9976e+00  2e+00  2e-02  2e-16\n",
      " 2: -6.3824e-03 -8.4362e-02  8e-02  6e-04  1e-16\n",
      " 3: -6.5766e-03 -8.9332e-03  2e-03  2e-05  6e-17\n",
      " 4: -6.7778e-03 -7.0068e-03  2e-04  1e-06  2e-15\n",
      " 5: -6.8349e-03 -6.8679e-03  3e-05  1e-07  3e-14\n",
      " 6: -6.8483e-03 -6.8504e-03  2e-06  3e-09  9e-14\n",
      " 7: -6.8497e-03 -6.8498e-03  3e-08  4e-11  1e-13\n",
      "Optimal solution found.\n"
     ]
    },
    {
     "name": "stderr",
     "output_type": "stream",
     "text": [
      "127.0.0.1 - - [20/Mar/2020 18:39:59] \"POST /_dash-update-component HTTP/1.1\" 200 -\n",
      "127.0.0.1 - - [20/Mar/2020 18:39:59] \"POST /_dash-update-component HTTP/1.1\" 200 -\n",
      "127.0.0.1 - - [20/Mar/2020 18:39:59] \"POST /_dash-update-component HTTP/1.1\" 200 -\n"
     ]
    },
    {
     "name": "stdout",
     "output_type": "stream",
     "text": [
      "     pcost       dcost       gap    pres   dres\n",
      " 0: -8.1083e-03 -3.3471e+00  1e+01  2e+00  4e-16\n",
      " 1: -8.1028e-03 -1.5205e+00  2e+00  2e-02  2e-16\n",
      " 2: -8.0471e-03 -3.2005e-01  3e-01  4e-03  5e-17\n",
      " 3: -6.2879e-03 -1.4903e-01  2e-01  2e-03  5e-16\n",
      " 4: -7.1046e-03 -8.7311e-02  9e-02  7e-04  6e-16\n",
      " 5: -6.8522e-03 -7.8089e-03  1e-03  8e-06  5e-16\n",
      " 6: -6.8498e-03 -6.8599e-03  1e-05  8e-08  4e-17\n",
      " 7: -6.8498e-03 -6.8499e-03  1e-07  8e-10  2e-15\n",
      " 8: -6.8498e-03 -6.8498e-03  1e-09  8e-12  1e-14\n",
      "Optimal solution found.\n"
     ]
    },
    {
     "name": "stderr",
     "output_type": "stream",
     "text": [
      "127.0.0.1 - - [20/Mar/2020 18:40:00] \"POST /_dash-update-component HTTP/1.1\" 200 -\n",
      "127.0.0.1 - - [20/Mar/2020 18:40:27] \"POST /_dash-update-component HTTP/1.1\" 200 -\n",
      "127.0.0.1 - - [20/Mar/2020 18:40:39] \"POST /_dash-update-component HTTP/1.1\" 200 -\n",
      "127.0.0.1 - - [20/Mar/2020 18:40:47] \"POST /_dash-update-component HTTP/1.1\" 200 -\n",
      "127.0.0.1 - - [20/Mar/2020 18:40:48] \"POST /_dash-update-component HTTP/1.1\" 200 -\n"
     ]
    },
    {
     "name": "stdout",
     "output_type": "stream",
     "text": [
      "     pcost       dcost       gap    pres   dres\n",
      " 0: -8.9597e-03 -4.5189e+00  2e+01  2e+00  7e-16\n",
      " 1: -8.9432e-03 -2.0091e+00  2e+00  2e-02  4e-16\n",
      " 2: -8.8851e-03 -4.8568e-01  5e-01  5e-03  3e-16\n",
      " 3: -5.8635e-03 -3.0632e-01  3e-01  2e-03  5e-16\n",
      " 4: -7.4949e-03 -2.1845e-01  3e-01  2e-03  1e-15\n",
      " 5: -6.9099e-03 -1.3448e-02  8e-03  4e-05  2e-15\n",
      " 6: -7.1373e-03 -7.7078e-03  6e-04  2e-06  6e-14\n",
      " 7: -7.1690e-03 -7.1927e-03  2e-05  3e-08  3e-13\n",
      " 8: -7.1691e-03 -7.1694e-03  3e-07  3e-10  3e-13\n",
      " 9: -7.1691e-03 -7.1691e-03  3e-09  3e-12  5e-13\n",
      "Optimal solution found.\n"
     ]
    },
    {
     "name": "stderr",
     "output_type": "stream",
     "text": [
      "127.0.0.1 - - [20/Mar/2020 18:40:48] \"POST /_dash-update-component HTTP/1.1\" 200 -\n",
      "127.0.0.1 - - [20/Mar/2020 18:41:13] \"POST /_dash-update-component HTTP/1.1\" 200 -\n",
      "/Users/Tim/opt/anaconda3/lib/python3.7/site-packages/statsmodels/tsa/base/tsa_model.py:165: ValueWarning:\n",
      "\n",
      "No frequency information was provided, so inferred frequency D will be used.\n",
      "\n",
      "127.0.0.1 - - [20/Mar/2020 19:09:42] \"POST /_dash-update-component HTTP/1.1\" 200 -\n",
      "/Users/Tim/opt/anaconda3/lib/python3.7/site-packages/statsmodels/tsa/base/tsa_model.py:165: ValueWarning:\n",
      "\n",
      "No frequency information was provided, so inferred frequency D will be used.\n",
      "\n",
      "127.0.0.1 - - [20/Mar/2020 19:10:00] \"POST /_dash-update-component HTTP/1.1\" 200 -\n",
      "127.0.0.1 - - [20/Mar/2020 19:10:24] \"POST /_dash-update-component HTTP/1.1\" 200 -\n",
      "127.0.0.1 - - [20/Mar/2020 19:10:24] \"POST /_dash-update-component HTTP/1.1\" 200 -\n"
     ]
    },
    {
     "name": "stdout",
     "output_type": "stream",
     "text": [
      "     pcost       dcost       gap    pres   dres\n",
      " 0: -7.3619e-03 -5.6257e+00  2e+01  2e+00  7e-16\n",
      " 1: -7.3192e-03 -2.4184e+00  3e+00  2e-02  6e-16\n",
      " 2: -7.3515e-03 -1.5927e-01  2e-01  1e-03  4e-16\n",
      " 3: -6.9558e-03 -2.3763e-02  2e-02  1e-04  6e-17\n",
      " 4: -7.0421e-03 -8.0877e-03  1e-03  6e-06  2e-16\n",
      " 5: -7.1453e-03 -7.3001e-03  2e-04  6e-07  5e-15\n",
      " 6: -7.1650e-03 -7.1742e-03  9e-06  2e-08  9e-15\n",
      " 7: -7.1685e-03 -7.1694e-03  9e-07  5e-10  1e-13\n",
      " 8: -7.1691e-03 -7.1691e-03  6e-08  2e-11  3e-12\n",
      "Optimal solution found.\n"
     ]
    },
    {
     "name": "stderr",
     "output_type": "stream",
     "text": [
      "127.0.0.1 - - [20/Mar/2020 19:10:25] \"POST /_dash-update-component HTTP/1.1\" 200 -\n",
      "127.0.0.1 - - [20/Mar/2020 19:10:48] \"POST /_dash-update-component HTTP/1.1\" 200 -\n",
      "127.0.0.1 - - [20/Mar/2020 19:11:34] \"POST /_dash-update-component HTTP/1.1\" 200 -\n"
     ]
    },
    {
     "name": "stdout",
     "output_type": "stream",
     "text": [
      "     pcost       dcost       gap    pres   dres\n",
      " 0: -7.3618e-03 -5.6257e+00  2e+01  2e+00  5e-16\n",
      " 1: -7.3189e-03 -2.4198e+00  3e+00  2e-02  6e-16\n",
      " 2: -7.3364e-03 -2.1870e-01  2e-01  1e-03  3e-16\n",
      " 3: -6.6868e-03 -4.4728e-02  4e-02  2e-04  9e-17\n",
      " 4: -6.8075e-03 -8.2859e-03  2e-03  8e-06  4e-17\n",
      " 5: -6.9345e-03 -7.0358e-03  1e-04  1e-07  3e-15\n",
      " 6: -6.9515e-03 -6.9606e-03  9e-06  4e-09  1e-13\n",
      " 7: -6.9543e-03 -6.9561e-03  2e-06  7e-10  7e-13\n",
      " 8: -6.9550e-03 -6.9553e-03  3e-07  9e-11  2e-11\n",
      " 9: -6.9552e-03 -6.9552e-03  3e-08  6e-12  1e-11\n",
      "Optimal solution found.\n",
      "     pcost       dcost       gap    pres   dres\n",
      " 0: -7.3593e-03 -5.6251e+00  2e+01  2e+00  2e-16\n",
      " 1: -7.3107e-03 -2.4584e+00  3e+00  3e-02  6e-16\n",
      " 2: -7.0667e-03 -1.2201e+00  1e+00  1e-02  5e-16\n",
      " 3: -1.7974e-03 -8.9666e-01  1e+00  1e-02  1e-15\n",
      " 4:  5.3738e-04 -1.5464e-01  2e-01  2e-03  2e-16\n",
      " 5:  1.4440e-03 -4.3493e-02  5e-02  3e-04  3e-16\n",
      " 6:  9.4112e-04 -2.8439e-02  4e-02  2e-04  4e-16\n",
      " 7:  1.0961e-03 -1.8615e-04  2e-03  8e-06  2e-15\n",
      " 8:  8.5688e-04  6.8327e-04  2e-04  2e-07  9e-14\n",
      " 9:  7.9838e-04  7.8836e-04  1e-05  4e-09  2e-13\n",
      "10:  7.9138e-04  7.9121e-04  2e-07  4e-11  3e-12\n",
      "11:  7.9125e-04  7.9124e-04  2e-09  4e-13  8e-12\n",
      "Optimal solution found.\n"
     ]
    },
    {
     "name": "stderr",
     "output_type": "stream",
     "text": [
      "127.0.0.1 - - [20/Mar/2020 19:11:34] \"POST /_dash-update-component HTTP/1.1\" 200 -\n",
      "127.0.0.1 - - [20/Mar/2020 19:11:34] \"POST /_dash-update-component HTTP/1.1\" 200 -\n"
     ]
    },
    {
     "name": "stdout",
     "output_type": "stream",
     "text": [
      "     pcost       dcost       gap    pres   dres\n",
      " 0: -7.3609e-03 -5.6255e+00  2e+01  2e+00  5e-16\n",
      " 1: -7.3158e-03 -2.4345e+00  3e+00  2e-02  6e-16\n",
      " 2: -7.2199e-03 -7.0533e-01  7e-01  6e-03  2e-16\n",
      " 3: -2.4695e-03 -4.6864e-01  5e-01  3e-03  6e-16\n",
      " 4: -4.7040e-03 -3.5515e-01  5e-01  2e-03  2e-15\n",
      " 5: -4.1164e-03 -1.5055e-02  1e-02  7e-05  5e-16\n",
      " 6: -4.4540e-03 -6.9747e-03  3e-03  2e-06  4e-15\n",
      " 7: -4.5165e-03 -4.7451e-03  2e-04  2e-07  2e-13\n",
      " 8: -4.5275e-03 -4.5360e-03  9e-06  3e-09  8e-13\n",
      " 9: -4.5276e-03 -4.5277e-03  9e-08  3e-11  5e-12\n",
      "Optimal solution found.\n"
     ]
    },
    {
     "name": "stderr",
     "output_type": "stream",
     "text": [
      "127.0.0.1 - - [20/Mar/2020 19:11:48] \"POST /_dash-update-component HTTP/1.1\" 200 -\n"
     ]
    },
    {
     "name": "stdout",
     "output_type": "stream",
     "text": [
      "     pcost       dcost       gap    pres   dres\n",
      " 0: -7.3593e-03 -5.6251e+00  2e+01  2e+00  2e-16\n",
      " 1: -7.3107e-03 -2.4584e+00  3e+00  3e-02  6e-16\n",
      " 2: -7.0667e-03 -1.2201e+00  1e+00  1e-02  5e-16\n",
      " 3: -1.7974e-03 -8.9666e-01  1e+00  1e-02  1e-15\n",
      " 4:  5.3738e-04 -1.5464e-01  2e-01  2e-03  2e-16\n",
      " 5:  1.4440e-03 -4.3493e-02  5e-02  3e-04  3e-16\n",
      " 6:  9.4112e-04 -2.8439e-02  4e-02  2e-04  4e-16\n",
      " 7:  1.0961e-03 -1.8615e-04  2e-03  8e-06  2e-15\n",
      " 8:  8.5688e-04  6.8327e-04  2e-04  2e-07  9e-14\n",
      " 9:  7.9838e-04  7.8836e-04  1e-05  4e-09  2e-13\n",
      "10:  7.9138e-04  7.9121e-04  2e-07  4e-11  3e-12\n",
      "11:  7.9125e-04  7.9124e-04  2e-09  4e-13  8e-12\n",
      "Optimal solution found.\n"
     ]
    },
    {
     "name": "stderr",
     "output_type": "stream",
     "text": [
      "127.0.0.1 - - [20/Mar/2020 19:11:49] \"POST /_dash-update-component HTTP/1.1\" 200 -\n"
     ]
    },
    {
     "name": "stdout",
     "output_type": "stream",
     "text": [
      "     pcost       dcost       gap    pres   dres\n",
      " 0: -7.3618e-03 -5.6257e+00  2e+01  2e+00  5e-16\n",
      " 1: -7.3189e-03 -2.4198e+00  3e+00  2e-02  6e-16\n",
      " 2: -7.3364e-03 -2.1870e-01  2e-01  1e-03  3e-16\n",
      " 3: -6.6868e-03 -4.4728e-02  4e-02  2e-04  9e-17\n",
      " 4: -6.8075e-03 -8.2859e-03  2e-03  8e-06  6e-17\n",
      " 5: -6.9345e-03 -7.0358e-03  1e-04  1e-07  5e-15\n",
      " 6: -6.9515e-03 -6.9606e-03  9e-06  4e-09  2e-13\n",
      " 7: -6.9543e-03 -6.9561e-03  2e-06  7e-10  5e-13\n",
      " 8: -6.9550e-03 -6.9553e-03  3e-07  9e-11  2e-11\n",
      " 9: -6.9552e-03 -6.9552e-03  3e-08  6e-12  2e-11\n",
      "Optimal solution found.\n"
     ]
    },
    {
     "name": "stderr",
     "output_type": "stream",
     "text": [
      "127.0.0.1 - - [20/Mar/2020 19:11:49] \"POST /_dash-update-component HTTP/1.1\" 200 -\n"
     ]
    },
    {
     "name": "stdout",
     "output_type": "stream",
     "text": [
      "     pcost       dcost       gap    pres   dres\n",
      " 0: -7.3619e-03 -5.6257e+00  2e+01  2e+00  7e-16\n",
      " 1: -7.3192e-03 -2.4184e+00  3e+00  2e-02  6e-16\n",
      " 2: -7.3515e-03 -1.5927e-01  2e-01  1e-03  4e-16\n",
      " 3: -6.9558e-03 -2.3763e-02  2e-02  1e-04  6e-17\n",
      " 4: -7.0421e-03 -8.0877e-03  1e-03  6e-06  2e-16\n",
      " 5: -7.1453e-03 -7.3001e-03  2e-04  6e-07  5e-15\n",
      " 6: -7.1650e-03 -7.1742e-03  9e-06  2e-08  9e-15\n",
      " 7: -7.1685e-03 -7.1694e-03  9e-07  5e-10  1e-13\n",
      " 8: -7.1691e-03 -7.1691e-03  6e-08  2e-11  3e-12\n",
      "Optimal solution found.\n"
     ]
    }
   ],
   "source": [
    "show_app(app_iplot)"
   ]
  },
  {
   "cell_type": "code",
   "execution_count": null,
   "metadata": {},
   "outputs": [],
   "source": []
  }
 ],
 "metadata": {
  "kernelspec": {
   "display_name": "Python 3",
   "language": "python",
   "name": "python3"
  },
  "language_info": {
   "codemirror_mode": {
    "name": "ipython",
    "version": 3
   },
   "file_extension": ".py",
   "mimetype": "text/x-python",
   "name": "python",
   "nbconvert_exporter": "python",
   "pygments_lexer": "ipython3",
   "version": "3.7.4"
  }
 },
 "nbformat": 4,
 "nbformat_minor": 2
}
