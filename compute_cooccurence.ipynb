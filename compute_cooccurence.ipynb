{
 "cells": [
  {
   "cell_type": "code",
   "execution_count": 1,
   "metadata": {},
   "outputs": [],
   "source": [
    "import numpy as np\n",
    "from nltk.tokenize import word_tokenize\n",
    "import matplotlib.pyplot as plt"
   ]
  },
  {
   "cell_type": "code",
   "execution_count": 2,
   "metadata": {},
   "outputs": [],
   "source": [
    "documents = [\"I like deep learning.\", \n",
    "                \"I like NLP.\",\n",
    "                \"I enjoy flying.\" \n",
    "            ]"
   ]
  },
  {
   "cell_type": "code",
   "execution_count": 3,
   "metadata": {},
   "outputs": [],
   "source": [
    "def extract_token(docs):\n",
    "    list_token = []\n",
    "    for d in docs:\n",
    "        list_token.extend(word_tokenize(d)) # bad solution, why?\n",
    "\n",
    "    list_token = list(set(list_token))\n",
    "    return list_token"
   ]
  },
  {
   "cell_type": "code",
   "execution_count": 4,
   "metadata": {},
   "outputs": [],
   "source": [
    "# a bad solution, ie should be improved\n",
    "def cal_co_occ(sentence, list_token, co_occ, window=2):\n",
    "    for i, word in enumerate(sentence):\n",
    "        for j in range(max(i-window,0), min(i+window, len(sentence))):\n",
    "            if i != j:\n",
    "                co_occ[list_token.index(word),list_token.index(sentence[j])] += 1\n"
   ]
  },
  {
   "cell_type": "code",
   "execution_count": 5,
   "metadata": {},
   "outputs": [
    {
     "name": "stdout",
     "output_type": "stream",
     "text": [
      "['I', 'flying', '.', 'NLP', 'enjoy', 'deep', 'like', 'learning']\n"
     ]
    }
   ],
   "source": [
    "tokens = extract_token(documents)\n",
    "print(tokens)"
   ]
  },
  {
   "cell_type": "code",
   "execution_count": 6,
   "metadata": {},
   "outputs": [],
   "source": [
    "co_occ = np.zeros((len(tokens), len(tokens)))\n",
    "for d in documents:\n",
    "    cal_co_occ(d.replace('.', ' .').split(), tokens, co_occ)\n"
   ]
  },
  {
   "cell_type": "code",
   "execution_count": 7,
   "metadata": {},
   "outputs": [
    {
     "name": "stdout",
     "output_type": "stream",
     "text": [
      "[[0. 0. 0. 0. 1. 0. 2. 0.]\n",
      " [1. 0. 1. 0. 1. 0. 0. 0.]\n",
      " [0. 1. 0. 1. 1. 1. 1. 1.]\n",
      " [1. 0. 1. 0. 0. 0. 1. 0.]\n",
      " [1. 1. 0. 0. 0. 0. 0. 0.]\n",
      " [1. 0. 0. 0. 0. 0. 1. 1.]\n",
      " [2. 0. 0. 1. 0. 1. 0. 0.]\n",
      " [0. 0. 1. 0. 0. 1. 1. 0.]]\n"
     ]
    }
   ],
   "source": [
    "print(co_occ)"
   ]
  },
  {
   "cell_type": "code",
   "execution_count": null,
   "metadata": {},
   "outputs": [],
   "source": []
  }
 ],
 "metadata": {
  "kernelspec": {
   "display_name": "Python 3",
   "language": "python",
   "name": "python3"
  },
  "language_info": {
   "codemirror_mode": {
    "name": "ipython",
    "version": 3
   },
   "file_extension": ".py",
   "mimetype": "text/x-python",
   "name": "python",
   "nbconvert_exporter": "python",
   "pygments_lexer": "ipython3",
   "version": "3.6.6"
  }
 },
 "nbformat": 4,
 "nbformat_minor": 2
}
